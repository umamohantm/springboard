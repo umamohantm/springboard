{
 "cells": [
  {
   "cell_type": "markdown",
   "metadata": {},
   "source": [
    "1. What would you choose as the key measure of success of this experiment in\n",
    "encouraging driver partners to serve both cities, and why would you choose this metric?"
   ]
  },
  {
   "cell_type": "markdown",
   "metadata": {},
   "source": [
    "* The drivers are working with great endeavor in both the cities already. Since Ultimate Gotham is most active at night on weekdays its better to reimburse this city toll-bridge at night on weekdays. \n",
    " \n",
    "* And Ultimate Metropolis is most active during the day on weekdays so its better to reimburse this city toll-bridge during daytime on weekdays.\n",
    "\n",
    "* On weekends, there is reasonable activity in both cities. On weekends we can detect the peak times and we can provide reimbursement according to that. \n",
    "\n",
    "* And we can make more drivers available in Ultimate Gotham during night times and vice versa in Ultimate Metropolis to serve the surge.\n",
    "\n",
    "* We can note the drivers who are riding more than a threshold number(which the Ultimate cities can fix) of drives and we can reward them according to the number of drives they are having per week. This can boost the drivers enthusiasm.\n"
   ]
  },
  {
   "cell_type": "markdown",
   "metadata": {},
   "source": [
    "2.Describe a practical experiment you would design to compare the effectiveness of the\n",
    "proposed change in relation to the key measure of success. Please provide details on:"
   ]
  },
  {
   "cell_type": "markdown",
   "metadata": {},
   "source": [
    "a. how you will implement the experiment"
   ]
  },
  {
   "cell_type": "markdown",
   "metadata": {},
   "source": [
    "We need to find the peak times in these two cities and the number of drivers present there.  Need to detect where the riders are more in two cities. And somparing the surges in both cities and need to ensure the city having more riders should be given more drivers."
   ]
  },
  {
   "cell_type": "markdown",
   "metadata": {},
   "source": [
    "b. what statistical test(s) you will conduct to verify the significance of the\n",
    "observation"
   ]
  },
  {
   "cell_type": "markdown",
   "metadata": {},
   "source": [
    "By assuming the dataset is realtively clean, I will do mean of the riders and drivers in both cities.I will take average of the riders during peak hours and average of the drivers available at that moment and correlation between them."
   ]
  },
  {
   "cell_type": "markdown",
   "metadata": {},
   "source": [
    "c. how you would interpret the results and provide recommendations to the city\n",
    "operations team along with any caveats."
   ]
  },
  {
   "cell_type": "markdown",
   "metadata": {},
   "source": [
    "Based on these recommendation I would  ensure if there is any difference for the Ultimate by reimbursing the toll-bridges of these cities. \n",
    "I would  the effectiveness of driver availability in peak hours and comparing with normal driver availability in peak hours."
   ]
  },
  {
   "cell_type": "code",
   "execution_count": null,
   "metadata": {},
   "outputs": [],
   "source": []
  }
 ],
 "metadata": {
  "kernelspec": {
   "display_name": "Python 3",
   "language": "python",
   "name": "python3"
  },
  "language_info": {
   "codemirror_mode": {
    "name": "ipython",
    "version": 3
   },
   "file_extension": ".py",
   "mimetype": "text/x-python",
   "name": "python",
   "nbconvert_exporter": "python",
   "pygments_lexer": "ipython3",
   "version": "3.7.6"
  }
 },
 "nbformat": 4,
 "nbformat_minor": 4
}
