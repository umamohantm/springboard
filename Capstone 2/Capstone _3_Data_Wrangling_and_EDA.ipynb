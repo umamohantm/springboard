{
 "cells": [
  {
   "cell_type": "markdown",
   "metadata": {},
   "source": [
    "# Abnormality detection in bone X-Ray Radiographs"
   ]
  },
  {
   "cell_type": "markdown",
   "metadata": {},
   "source": [
    "<font color = 'teal'>Data Wrangling <font />\n"
   ]
  },
  {
   "cell_type": "markdown",
   "metadata": {},
   "source": [
    "Import libraries"
   ]
  },
  {
   "cell_type": "code",
   "execution_count": 1,
   "metadata": {},
   "outputs": [],
   "source": [
    "import pandas as pd\n",
    "import numpy as np\n",
    "import os\n",
    "import matplotlib.pyplot as plt\n",
    "import seaborn as sns \n",
    "%matplotlib inline\n",
    "from keras.preprocessing import image\n"
   ]
  },
  {
   "cell_type": "markdown",
   "metadata": {},
   "source": [
    "Dataset used in this project is called MURA. MURA is one of the largest public radiographic image datasets. MURA is a dataset of musculoskeletal radiographs consisting of 14,863 studies from 12,173 patients, with a total of 40,561 multi-view radiographic images."
   ]
  },
  {
   "cell_type": "code",
   "execution_count": 2,
   "metadata": {},
   "outputs": [
    {
     "data": {
      "text/html": [
       "<div>\n",
       "<style scoped>\n",
       "    .dataframe tbody tr th:only-of-type {\n",
       "        vertical-align: middle;\n",
       "    }\n",
       "\n",
       "    .dataframe tbody tr th {\n",
       "        vertical-align: top;\n",
       "    }\n",
       "\n",
       "    .dataframe thead th {\n",
       "        text-align: right;\n",
       "    }\n",
       "</style>\n",
       "<table border=\"1\" class=\"dataframe\">\n",
       "  <thead>\n",
       "    <tr style=\"text-align: right;\">\n",
       "      <th></th>\n",
       "      <th>train_path</th>\n",
       "    </tr>\n",
       "  </thead>\n",
       "  <tbody>\n",
       "    <tr>\n",
       "      <th>0</th>\n",
       "      <td>MURA-v1.1/train/XR_SHOULDER/patient00001/study...</td>\n",
       "    </tr>\n",
       "    <tr>\n",
       "      <th>1</th>\n",
       "      <td>MURA-v1.1/train/XR_SHOULDER/patient00001/study...</td>\n",
       "    </tr>\n",
       "    <tr>\n",
       "      <th>2</th>\n",
       "      <td>MURA-v1.1/train/XR_SHOULDER/patient00001/study...</td>\n",
       "    </tr>\n",
       "    <tr>\n",
       "      <th>3</th>\n",
       "      <td>MURA-v1.1/train/XR_SHOULDER/patient00002/study...</td>\n",
       "    </tr>\n",
       "    <tr>\n",
       "      <th>4</th>\n",
       "      <td>MURA-v1.1/train/XR_SHOULDER/patient00002/study...</td>\n",
       "    </tr>\n",
       "  </tbody>\n",
       "</table>\n",
       "</div>"
      ],
      "text/plain": [
       "                                          train_path\n",
       "0  MURA-v1.1/train/XR_SHOULDER/patient00001/study...\n",
       "1  MURA-v1.1/train/XR_SHOULDER/patient00001/study...\n",
       "2  MURA-v1.1/train/XR_SHOULDER/patient00001/study...\n",
       "3  MURA-v1.1/train/XR_SHOULDER/patient00002/study...\n",
       "4  MURA-v1.1/train/XR_SHOULDER/patient00002/study..."
      ]
     },
     "execution_count": 2,
     "metadata": {},
     "output_type": "execute_result"
    }
   ],
   "source": [
    "#load the train image data into a pandas dataframe\n",
    "train_image = pd.read_csv('train_image_paths.csv',names =['train_path'])\n",
    "#print the first five rows of train_image dataframe\n",
    "train_image.head()"
   ]
  },
  {
   "cell_type": "code",
   "execution_count": 3,
   "metadata": {},
   "outputs": [
    {
     "data": {
      "text/html": [
       "<div>\n",
       "<style scoped>\n",
       "    .dataframe tbody tr th:only-of-type {\n",
       "        vertical-align: middle;\n",
       "    }\n",
       "\n",
       "    .dataframe tbody tr th {\n",
       "        vertical-align: top;\n",
       "    }\n",
       "\n",
       "    .dataframe thead th {\n",
       "        text-align: right;\n",
       "    }\n",
       "</style>\n",
       "<table border=\"1\" class=\"dataframe\">\n",
       "  <thead>\n",
       "    <tr style=\"text-align: right;\">\n",
       "      <th></th>\n",
       "      <th>train_path</th>\n",
       "      <th>train_labels</th>\n",
       "    </tr>\n",
       "  </thead>\n",
       "  <tbody>\n",
       "    <tr>\n",
       "      <th>0</th>\n",
       "      <td>MURA-v1.1/train/XR_SHOULDER/patient00001/study...</td>\n",
       "      <td>1</td>\n",
       "    </tr>\n",
       "    <tr>\n",
       "      <th>1</th>\n",
       "      <td>MURA-v1.1/train/XR_SHOULDER/patient00002/study...</td>\n",
       "      <td>1</td>\n",
       "    </tr>\n",
       "    <tr>\n",
       "      <th>2</th>\n",
       "      <td>MURA-v1.1/train/XR_SHOULDER/patient00003/study...</td>\n",
       "      <td>1</td>\n",
       "    </tr>\n",
       "    <tr>\n",
       "      <th>3</th>\n",
       "      <td>MURA-v1.1/train/XR_SHOULDER/patient00004/study...</td>\n",
       "      <td>1</td>\n",
       "    </tr>\n",
       "    <tr>\n",
       "      <th>4</th>\n",
       "      <td>MURA-v1.1/train/XR_SHOULDER/patient00005/study...</td>\n",
       "      <td>1</td>\n",
       "    </tr>\n",
       "  </tbody>\n",
       "</table>\n",
       "</div>"
      ],
      "text/plain": [
       "                                          train_path  train_labels\n",
       "0  MURA-v1.1/train/XR_SHOULDER/patient00001/study...             1\n",
       "1  MURA-v1.1/train/XR_SHOULDER/patient00002/study...             1\n",
       "2  MURA-v1.1/train/XR_SHOULDER/patient00003/study...             1\n",
       "3  MURA-v1.1/train/XR_SHOULDER/patient00004/study...             1\n",
       "4  MURA-v1.1/train/XR_SHOULDER/patient00005/study...             1"
      ]
     },
     "execution_count": 3,
     "metadata": {},
     "output_type": "execute_result"
    }
   ],
   "source": [
    "#load the train label data into a pandas dataframe\n",
    "train_labelled = pd.read_csv('train_labeled_studies.csv',names =['train_path','train_labels'])\n",
    "#print first five rows of train_labels dataframe\n",
    "train_labelled.head()"
   ]
  },
  {
   "cell_type": "code",
   "execution_count": 4,
   "metadata": {},
   "outputs": [
    {
     "data": {
      "text/html": [
       "<div>\n",
       "<style scoped>\n",
       "    .dataframe tbody tr th:only-of-type {\n",
       "        vertical-align: middle;\n",
       "    }\n",
       "\n",
       "    .dataframe tbody tr th {\n",
       "        vertical-align: top;\n",
       "    }\n",
       "\n",
       "    .dataframe thead th {\n",
       "        text-align: right;\n",
       "    }\n",
       "</style>\n",
       "<table border=\"1\" class=\"dataframe\">\n",
       "  <thead>\n",
       "    <tr style=\"text-align: right;\">\n",
       "      <th></th>\n",
       "      <th>valid_path</th>\n",
       "    </tr>\n",
       "  </thead>\n",
       "  <tbody>\n",
       "    <tr>\n",
       "      <th>0</th>\n",
       "      <td>MURA-v1.1/valid/XR_WRIST/patient11185/study1_p...</td>\n",
       "    </tr>\n",
       "    <tr>\n",
       "      <th>1</th>\n",
       "      <td>MURA-v1.1/valid/XR_WRIST/patient11185/study1_p...</td>\n",
       "    </tr>\n",
       "    <tr>\n",
       "      <th>2</th>\n",
       "      <td>MURA-v1.1/valid/XR_WRIST/patient11185/study1_p...</td>\n",
       "    </tr>\n",
       "    <tr>\n",
       "      <th>3</th>\n",
       "      <td>MURA-v1.1/valid/XR_WRIST/patient11185/study1_p...</td>\n",
       "    </tr>\n",
       "    <tr>\n",
       "      <th>4</th>\n",
       "      <td>MURA-v1.1/valid/XR_WRIST/patient11186/study1_p...</td>\n",
       "    </tr>\n",
       "  </tbody>\n",
       "</table>\n",
       "</div>"
      ],
      "text/plain": [
       "                                          valid_path\n",
       "0  MURA-v1.1/valid/XR_WRIST/patient11185/study1_p...\n",
       "1  MURA-v1.1/valid/XR_WRIST/patient11185/study1_p...\n",
       "2  MURA-v1.1/valid/XR_WRIST/patient11185/study1_p...\n",
       "3  MURA-v1.1/valid/XR_WRIST/patient11185/study1_p...\n",
       "4  MURA-v1.1/valid/XR_WRIST/patient11186/study1_p..."
      ]
     },
     "execution_count": 4,
     "metadata": {},
     "output_type": "execute_result"
    }
   ],
   "source": [
    "#load the test iamge data into a pandas dataframe\n",
    "valid_image = pd.read_csv('valid_image_paths.csv',names = ['valid_path'] )\n",
    "#print the first five rows of valid_image dataframe \n",
    "valid_image.head()"
   ]
  },
  {
   "cell_type": "code",
   "execution_count": 5,
   "metadata": {},
   "outputs": [
    {
     "data": {
      "text/html": [
       "<div>\n",
       "<style scoped>\n",
       "    .dataframe tbody tr th:only-of-type {\n",
       "        vertical-align: middle;\n",
       "    }\n",
       "\n",
       "    .dataframe tbody tr th {\n",
       "        vertical-align: top;\n",
       "    }\n",
       "\n",
       "    .dataframe thead th {\n",
       "        text-align: right;\n",
       "    }\n",
       "</style>\n",
       "<table border=\"1\" class=\"dataframe\">\n",
       "  <thead>\n",
       "    <tr style=\"text-align: right;\">\n",
       "      <th></th>\n",
       "      <th>valid_path</th>\n",
       "      <th>valid_labels</th>\n",
       "    </tr>\n",
       "  </thead>\n",
       "  <tbody>\n",
       "    <tr>\n",
       "      <th>0</th>\n",
       "      <td>MURA-v1.1/valid/XR_WRIST/patient11185/study1_p...</td>\n",
       "      <td>1</td>\n",
       "    </tr>\n",
       "    <tr>\n",
       "      <th>1</th>\n",
       "      <td>MURA-v1.1/valid/XR_WRIST/patient11186/study1_p...</td>\n",
       "      <td>1</td>\n",
       "    </tr>\n",
       "    <tr>\n",
       "      <th>2</th>\n",
       "      <td>MURA-v1.1/valid/XR_WRIST/patient11186/study2_p...</td>\n",
       "      <td>1</td>\n",
       "    </tr>\n",
       "    <tr>\n",
       "      <th>3</th>\n",
       "      <td>MURA-v1.1/valid/XR_WRIST/patient11186/study3_p...</td>\n",
       "      <td>1</td>\n",
       "    </tr>\n",
       "    <tr>\n",
       "      <th>4</th>\n",
       "      <td>MURA-v1.1/valid/XR_WRIST/patient11187/study1_p...</td>\n",
       "      <td>1</td>\n",
       "    </tr>\n",
       "  </tbody>\n",
       "</table>\n",
       "</div>"
      ],
      "text/plain": [
       "                                          valid_path  valid_labels\n",
       "0  MURA-v1.1/valid/XR_WRIST/patient11185/study1_p...             1\n",
       "1  MURA-v1.1/valid/XR_WRIST/patient11186/study1_p...             1\n",
       "2  MURA-v1.1/valid/XR_WRIST/patient11186/study2_p...             1\n",
       "3  MURA-v1.1/valid/XR_WRIST/patient11186/study3_p...             1\n",
       "4  MURA-v1.1/valid/XR_WRIST/patient11187/study1_p...             1"
      ]
     },
     "execution_count": 5,
     "metadata": {},
     "output_type": "execute_result"
    }
   ],
   "source": [
    "#load the test labels data into a pandas dataframe\n",
    "valid_labelled = pd.read_csv('valid_labeled_studies.csv',names = ['valid_path','valid_labels'])\n",
    "#print first five rows of the dataframe valid_labels\n",
    "valid_labelled.head()"
   ]
  },
  {
   "cell_type": "markdown",
   "metadata": {},
   "source": [
    "**<font color='teal'> Print the current working directory </font>**"
   ]
  },
  {
   "cell_type": "code",
   "execution_count": 6,
   "metadata": {},
   "outputs": [
    {
     "data": {
      "text/plain": [
       "'C:\\\\Users\\\\user\\\\Springboard\\\\Course\\\\Capstone - 2\\\\MURA-v1.1'"
      ]
     },
     "execution_count": 6,
     "metadata": {},
     "output_type": "execute_result"
    }
   ],
   "source": [
    "pwd"
   ]
  },
  {
   "cell_type": "code",
   "execution_count": 7,
   "metadata": {},
   "outputs": [
    {
     "data": {
      "text/plain": [
       "['.ipynb_checkpoints',\n",
       " 'Capstone _3_Data_Wrangling_and_EDA.ipynb',\n",
       " 'Capstone_3_Preprocessing_and_modelling.ipynb',\n",
       " 'data',\n",
       " 'figures',\n",
       " 'models',\n",
       " 'train',\n",
       " 'train_image_paths.csv',\n",
       " 'train_labeled_studies.csv',\n",
       " 'Untitled.ipynb',\n",
       " 'valid',\n",
       " 'valid_image_paths.csv',\n",
       " 'valid_labeled_studies.csv']"
      ]
     },
     "execution_count": 7,
     "metadata": {},
     "output_type": "execute_result"
    }
   ],
   "source": [
    "#list all the files in the workinh directory\n",
    "os.listdir()"
   ]
  },
  {
   "cell_type": "code",
   "execution_count": 8,
   "metadata": {},
   "outputs": [
    {
     "name": "stdout",
     "output_type": "stream",
     "text": [
      "Train_image columns : Index(['train_path'], dtype='object')\n",
      "Train_labels columns : Index(['train_path', 'train_labels'], dtype='object')\n",
      "Valid_image columns : Index(['valid_path'], dtype='object')\n",
      "Valid_labels columns : Index(['valid_path', 'valid_labels'], dtype='object')\n"
     ]
    }
   ],
   "source": [
    "# print the columns of all four dataframes\n",
    "print(\"Train_image columns :\", train_image.columns)\n",
    "print(\"Train_labels columns :\", train_labelled.columns)\n",
    "print(\"Valid_image columns :\",valid_image.columns)\n",
    "print(\"Valid_labels columns :\",valid_labelled.columns)"
   ]
  },
  {
   "cell_type": "code",
   "execution_count": 9,
   "metadata": {},
   "outputs": [
    {
     "name": "stdout",
     "output_type": "stream",
     "text": [
      "Train_image shape :  (36808, 1)\n",
      "Train_labels shape :  (13457, 2)\n",
      "Valid_image shape :  (3197, 1)\n",
      "Valid_labels shape :  (1199, 2)\n"
     ]
    }
   ],
   "source": [
    "#print the shape of all dataframes\n",
    "print(\"Train_image shape : \", train_image.shape)\n",
    "print(\"Train_labels shape : \", train_labelled.shape)\n",
    "print(\"Valid_image shape : \",valid_image.shape)\n",
    "print(\"Valid_labels shape : \",valid_labelled.shape)"
   ]
  },
  {
   "cell_type": "markdown",
   "metadata": {},
   "source": [
    "* The train_image dataframe contains record of indivudual images of the patients in each row \n",
    "* The train_labelled dataframe contains record of indivudual patient in each row \n",
    "* The valid_image dataframe contains record of indivudual images of the patients in each row \n",
    "* The valid_labelled dataframe contains record of indivudual patient in each row "
   ]
  },
  {
   "cell_type": "markdown",
   "metadata": {},
   "source": [
    "The `df.info()` function also prints the count of non-null values per column. Used this function to review the column names, null value counts and data types of your data frame."
   ]
  },
  {
   "cell_type": "code",
   "execution_count": 10,
   "metadata": {},
   "outputs": [
    {
     "name": "stdout",
     "output_type": "stream",
     "text": [
      "<class 'pandas.core.frame.DataFrame'>\n",
      "RangeIndex: 36808 entries, 0 to 36807\n",
      "Data columns (total 1 columns):\n",
      " #   Column      Non-Null Count  Dtype \n",
      "---  ------      --------------  ----- \n",
      " 0   train_path  36808 non-null  object\n",
      "dtypes: object(1)\n",
      "memory usage: 287.7+ KB\n",
      "Train_image info :  None\n",
      "<class 'pandas.core.frame.DataFrame'>\n",
      "RangeIndex: 13457 entries, 0 to 13456\n",
      "Data columns (total 2 columns):\n",
      " #   Column        Non-Null Count  Dtype \n",
      "---  ------        --------------  ----- \n",
      " 0   train_path    13457 non-null  object\n",
      " 1   train_labels  13457 non-null  int64 \n",
      "dtypes: int64(1), object(1)\n",
      "memory usage: 210.4+ KB\n",
      "Train_labels info :  None\n",
      "<class 'pandas.core.frame.DataFrame'>\n",
      "RangeIndex: 3197 entries, 0 to 3196\n",
      "Data columns (total 1 columns):\n",
      " #   Column      Non-Null Count  Dtype \n",
      "---  ------      --------------  ----- \n",
      " 0   valid_path  3197 non-null   object\n",
      "dtypes: object(1)\n",
      "memory usage: 25.1+ KB\n",
      "Valid_image info :  None\n",
      "<class 'pandas.core.frame.DataFrame'>\n",
      "RangeIndex: 1199 entries, 0 to 1198\n",
      "Data columns (total 2 columns):\n",
      " #   Column        Non-Null Count  Dtype \n",
      "---  ------        --------------  ----- \n",
      " 0   valid_path    1199 non-null   object\n",
      " 1   valid_labels  1199 non-null   int64 \n",
      "dtypes: int64(1), object(1)\n",
      "memory usage: 18.9+ KB\n",
      "Valid_labels info :  None\n"
     ]
    }
   ],
   "source": [
    "print(\"Train_image info : \", train_image.info())\n",
    "print(\"Train_labels info : \", train_labelled.info())\n",
    "print(\"Valid_image info : \",valid_image.info())\n",
    "print(\"Valid_labels info : \",valid_labelled.info())"
   ]
  },
  {
   "cell_type": "code",
   "execution_count": 11,
   "metadata": {},
   "outputs": [
    {
     "data": {
      "text/plain": [
       "array([1, 0], dtype=int64)"
      ]
     },
     "execution_count": 11,
     "metadata": {},
     "output_type": "execute_result"
    }
   ],
   "source": [
    "train_labelled['train_labels'].unique()"
   ]
  },
  {
   "cell_type": "code",
   "execution_count": 12,
   "metadata": {},
   "outputs": [
    {
     "data": {
      "text/plain": [
       "array([1, 0], dtype=int64)"
      ]
     },
     "execution_count": 12,
     "metadata": {},
     "output_type": "execute_result"
    }
   ],
   "source": [
    "valid_labelled['valid_labels'].unique()"
   ]
  },
  {
   "cell_type": "markdown",
   "metadata": {},
   "source": [
    "The train_labels and valid_labels are clasiified into two categorues only( 1 : abnormal, 0 : normal)"
   ]
  },
  {
   "cell_type": "code",
   "execution_count": 13,
   "metadata": {},
   "outputs": [
    {
     "data": {
      "text/plain": [
       "False"
      ]
     },
     "execution_count": 13,
     "metadata": {},
     "output_type": "execute_result"
    }
   ],
   "source": [
    "train_image.isnull().values.any()"
   ]
  },
  {
   "cell_type": "code",
   "execution_count": 14,
   "metadata": {},
   "outputs": [
    {
     "data": {
      "text/plain": [
       "False"
      ]
     },
     "execution_count": 14,
     "metadata": {},
     "output_type": "execute_result"
    }
   ],
   "source": [
    "train_labelled.isnull().values.any()"
   ]
  },
  {
   "cell_type": "code",
   "execution_count": 15,
   "metadata": {},
   "outputs": [
    {
     "data": {
      "text/plain": [
       "False"
      ]
     },
     "execution_count": 15,
     "metadata": {},
     "output_type": "execute_result"
    }
   ],
   "source": [
    "valid_image.isnull().values.any()"
   ]
  },
  {
   "cell_type": "code",
   "execution_count": 16,
   "metadata": {},
   "outputs": [
    {
     "data": {
      "text/plain": [
       "False"
      ]
     },
     "execution_count": 16,
     "metadata": {},
     "output_type": "execute_result"
    }
   ],
   "source": [
    "valid_labelled.isnull().values.any()"
   ]
  },
  {
   "cell_type": "markdown",
   "metadata": {},
   "source": [
    "We can see that there are no nan values in any of these dataframes. The datasets are relatively clean so there is no need of data cleaning."
   ]
  },
  {
   "cell_type": "markdown",
   "metadata": {},
   "source": [
    "# Exploratory Data Analysis"
   ]
  },
  {
   "cell_type": "markdown",
   "metadata": {},
   "source": [
    "<font color ='teal'>Visualising abnormal bone X-Ray Radiographs <font />"
   ]
  },
  {
   "cell_type": "code",
   "execution_count": 17,
   "metadata": {},
   "outputs": [
    {
     "name": "stdout",
     "output_type": "stream",
     "text": [
      "(5177, 2)\n",
      "                                          train_path  train_labels\n",
      "0  MURA-v1.1/train/XR_SHOULDER/patient00001/study...             1\n",
      "1  MURA-v1.1/train/XR_SHOULDER/patient00002/study...             1\n",
      "2  MURA-v1.1/train/XR_SHOULDER/patient00003/study...             1\n",
      "3  MURA-v1.1/train/XR_SHOULDER/patient00004/study...             1\n",
      "4  MURA-v1.1/train/XR_SHOULDER/patient00005/study...             1\n"
     ]
    }
   ],
   "source": [
    "#Train_label column contains information about whether the bone is abnormal or normal\n",
    "#if the train_label value is 1(the bone is abnormal) and if it is 0(the bone is normal)\n",
    "#Store the data of abnormal cases in Abnormal dataframe\n",
    "Abnormal = train_labelled[train_labelled['train_labels']==1]\n",
    "print(Abnormal.shape)\n",
    "print(Abnormal.head())"
   ]
  },
  {
   "cell_type": "markdown",
   "metadata": {},
   "source": [
    "Trying to visualize the image which path is available in first row of theAbnormal dataframe ."
   ]
  },
  {
   "cell_type": "code",
   "execution_count": 18,
   "metadata": {},
   "outputs": [
    {
     "data": {
      "text/plain": [
       "'MURA-v1.1/train/XR_SHOULDER/patient00001/study1_positive/image1.png'"
      ]
     },
     "execution_count": 18,
     "metadata": {},
     "output_type": "execute_result"
    }
   ],
   "source": [
    "path = train_image.loc[0,'train_path']\n",
    "path"
   ]
  },
  {
   "cell_type": "code",
   "execution_count": 19,
   "metadata": {},
   "outputs": [
    {
     "data": {
      "text/plain": [
       "<matplotlib.image.AxesImage at 0x1ccf15ee588>"
      ]
     },
     "execution_count": 19,
     "metadata": {},
     "output_type": "execute_result"
    },
    {
     "data": {
      "image/png": "[encoded data removed]",
      "text/plain": [
       "<Figure size 576x576 with 1 Axes>"
      ]
     },
     "metadata": {
      "needs_background": "light"
     },
     "output_type": "display_data"
    }
   ],
   "source": [
    "#Using Keras displaying the image1.png (Abnormal shoulder bone )\n",
    "img_path = 'train/XR_SHOULDER/patient00001/study1_positive/image1.png'\n",
    "img = image.load_img(img_path, target_size=(224, 224))\n",
    "plt.figure(figsize=(8,8))\n",
    "plt.axis('off')\n",
    "plt.title('Abnormal Shoulder bone')\n",
    "plt.imshow(img)"
   ]
  },
  {
   "cell_type": "markdown",
   "metadata": {},
   "source": [
    "<font color ='teal'>Visulaising normal bone X-Ray Radiographs <font />"
   ]
  },
  {
   "cell_type": "code",
   "execution_count": 20,
   "metadata": {},
   "outputs": [
    {
     "name": "stdout",
     "output_type": "stream",
     "text": [
      "(8280, 2)\n",
      "                                           train_path  train_labels\n",
      "7   MURA-v1.1/train/XR_SHOULDER/patient00007/study...             0\n",
      "53  MURA-v1.1/train/XR_SHOULDER/patient00051/study...             0\n",
      "62  MURA-v1.1/train/XR_SHOULDER/patient00058/study...             0\n",
      "81  MURA-v1.1/train/XR_SHOULDER/patient00074/study...             0\n",
      "82  MURA-v1.1/train/XR_SHOULDER/patient00074/study...             0\n"
     ]
    }
   ],
   "source": [
    "#Train_label column contains information about whether the bone is abnormal or normal\n",
    "#if the train_label value is 1(the bone is abnormal) and if it is 0(the bone is normal)\n",
    "#Store the data of normal cases in Normal dataframe\n",
    "Normal = train_labelled[train_labelled['train_labels']==0]\n",
    "print(Normal.shape)\n",
    "print(Normal.head())"
   ]
  },
  {
   "cell_type": "markdown",
   "metadata": {},
   "source": [
    "Trying to visualize the image which path is available in first row of the dataframe."
   ]
  },
  {
   "cell_type": "code",
   "execution_count": 21,
   "metadata": {},
   "outputs": [
    {
     "data": {
      "text/plain": [
       "'MURA-v1.1/train/XR_SHOULDER/patient00003/study1_positive/image2.png'"
      ]
     },
     "execution_count": 21,
     "metadata": {},
     "output_type": "execute_result"
    }
   ],
   "source": [
    "path = train_image.loc[7,'train_path']\n",
    "path"
   ]
  },
  {
   "cell_type": "code",
   "execution_count": 22,
   "metadata": {},
   "outputs": [
    {
     "data": {
      "text/plain": [
       "<matplotlib.image.AxesImage at 0x1ccf168b988>"
      ]
     },
     "execution_count": 22,
     "metadata": {},
     "output_type": "execute_result"
    },
    {
     "data": {
      "image/png": "[encoded data removed]",
      "text/plain": [
       "<Figure size 576x576 with 1 Axes>"
      ]
     },
     "metadata": {
      "needs_background": "light"
     },
     "output_type": "display_data"
    }
   ],
   "source": [
    "#Using Keras displaying the image1.png(Normal shoulder bone) \n",
    "img_path = 'train/XR_SHOULDER/patient00007/study2_negative/image2.png'\n",
    "img = image.load_img(img_path, target_size=(224, 224))\n",
    "plt.figure(figsize=(8,8))\n",
    "plt.axis('off')\n",
    "plt.title('Normal Shoulder bone')\n",
    "plt.imshow(img)"
   ]
  },
  {
   "cell_type": "markdown",
   "metadata": {},
   "source": [
    "<font color = 'teal'> Checking whether the dataframes have Imbalanced data <font />"
   ]
  },
  {
   "cell_type": "markdown",
   "metadata": {},
   "source": [
    "# Abnormal and normal cases count in train_labelled dataframe"
   ]
  },
  {
   "cell_type": "code",
   "execution_count": 23,
   "metadata": {},
   "outputs": [
    {
     "name": "stdout",
     "output_type": "stream",
     "text": [
      "0    8280\n",
      "1    5177\n",
      "Name: train_labels, dtype: int64\n"
     ]
    }
   ],
   "source": [
    "#the train_labelled dataframe contains two columns(image paths and the condition of bone )\n",
    "#This dataframe contains details about indivudual patient(i.e., image path for indivudual patient)\n",
    "#And it contains both abnormal and normal cases in same folder.\n",
    "train_labels_counts =  train_labelled['train_labels'].value_counts()\n",
    "train_labels_counts\n",
    "print(train_labels_counts)"
   ]
  },
  {
   "cell_type": "code",
   "execution_count": 24,
   "metadata": {},
   "outputs": [
    {
     "data": {
      "image/png": "[encoded data removed]",
      "text/plain": [
       "<Figure size 432x432 with 1 Axes>"
      ]
     },
     "metadata": {
      "needs_background": "light"
     },
     "output_type": "display_data"
    }
   ],
   "source": [
    "#Plotting the normal and abnormal count of train_labelled dataframe \n",
    "plt.figure(figsize=(6,6))\n",
    "plt.title('Abnormal and Normal cases')\n",
    "plt.xlabel('Cases')\n",
    "plt.ylabel('Count')\n",
    "sns.barplot(x= train_labels_counts.index,y = train_labels_counts.values,palette = 'hls')\n",
    "plt.xticks(range(len(train_labels_counts.index)),['Normal[0]','Abnormal[1]'])\n",
    "plt.show()"
   ]
  },
  {
   "cell_type": "markdown",
   "metadata": {},
   "source": [
    "train_labelled dataframe is not labelled for each image. Actually the images are grouped for one patient in the dataset. Since it is not been labelled separately for each image, its better to consider train_image as training dataset."
   ]
  },
  {
   "cell_type": "markdown",
   "metadata": {},
   "source": [
    "# Abnormal and normal cases count in valid_labelled dataframe"
   ]
  },
  {
   "cell_type": "code",
   "execution_count": 25,
   "metadata": {},
   "outputs": [
    {
     "name": "stdout",
     "output_type": "stream",
     "text": [
      "0    661\n",
      "1    538\n",
      "Name: valid_labels, dtype: int64\n"
     ]
    }
   ],
   "source": [
    "#the valid_labelled dataframe contains two columns(image paths and the condition of bone )\n",
    "#This dataframe contains details about indivudual patient(i.e., image path for indivudual patient)\n",
    "#And it contains both abnormal and normal cases in same folder.\n",
    "valid_labels_counts =  valid_labelled['valid_labels'].value_counts()\n",
    "valid_labels_counts\n",
    "print(valid_labels_counts)"
   ]
  },
  {
   "cell_type": "code",
   "execution_count": 26,
   "metadata": {},
   "outputs": [
    {
     "data": {
      "image/png": "[encoded data removed]",
      "text/plain": [
       "<Figure size 432x432 with 1 Axes>"
      ]
     },
     "metadata": {
      "needs_background": "light"
     },
     "output_type": "display_data"
    }
   ],
   "source": [
    "#Plotting the normal and abnormal count of valid_labelled dataframe \n",
    "plt.figure(figsize=(6,6))\n",
    "plt.title('Abnormal and Normal cases')\n",
    "plt.xlabel('Cases')\n",
    "plt.ylabel('Count')\n",
    "sns.barplot(x= valid_labels_counts.index,y = valid_labels_counts.values,palette = 'hls')\n",
    "plt.xticks(range(len(valid_labels_counts.index)),['Normal[0]','Abnormal[1]'])\n",
    "plt.show()"
   ]
  },
  {
   "cell_type": "markdown",
   "metadata": {},
   "source": [
    "valid_labelled dataframe is not labelled for each image. Actually the images are grouped for one patient in this dataset same as train_labelled dataframe. Since it is not been labelled separately for each image, its better to take valid_image as validating dataset."
   ]
  },
  {
   "cell_type": "markdown",
   "metadata": {},
   "source": [
    "# Abnormal and Normal cases count in train_image dataframe "
   ]
  },
  {
   "cell_type": "markdown",
   "metadata": {},
   "source": [
    "Creating a column train_labels based "
   ]
  },
  {
   "cell_type": "code",
   "execution_count": 27,
   "metadata": {},
   "outputs": [],
   "source": [
    "#Defining the function labelling_train which creates a column train_labels containing the info about bone anormality\n",
    "def labelling_train(train_image):\n",
    "    #Iterating through train_image['train_image']\n",
    "    for i in range(len(train_image['train_path'])):\n",
    "        #if path of the image contains positive in it , storing 1 in train_label column \n",
    "        if ('positive' in train_image.loc[i,'train_path']):\n",
    "            train_image.loc[i,'train_labels'] = 1\n",
    "        else:\n",
    "            train_image.loc[i,'train_labels'] = 0"
   ]
  },
  {
   "cell_type": "code",
   "execution_count": 28,
   "metadata": {},
   "outputs": [],
   "source": [
    "# calling the function labelling by passing the dataframe train_image in it\n",
    "labelling_train(train_image)"
   ]
  },
  {
   "cell_type": "code",
   "execution_count": 29,
   "metadata": {},
   "outputs": [
    {
     "name": "stdout",
     "output_type": "stream",
     "text": [
      "                                          train_path  train_labels\n",
      "0  MURA-v1.1/train/XR_SHOULDER/patient00001/study...           1.0\n",
      "1  MURA-v1.1/train/XR_SHOULDER/patient00001/study...           1.0\n",
      "2  MURA-v1.1/train/XR_SHOULDER/patient00001/study...           1.0\n",
      "3  MURA-v1.1/train/XR_SHOULDER/patient00002/study...           1.0\n",
      "4  MURA-v1.1/train/XR_SHOULDER/patient00002/study...           1.0\n"
     ]
    }
   ],
   "source": [
    "#Print the first five rows of train_image \n",
    "print(train_image.head())"
   ]
  },
  {
   "cell_type": "code",
   "execution_count": 30,
   "metadata": {},
   "outputs": [
    {
     "name": "stdout",
     "output_type": "stream",
     "text": [
      "0.0    21935\n",
      "1.0    14873\n",
      "Name: train_labels, dtype: int64\n"
     ]
    }
   ],
   "source": [
    "train_image_counts =  train_image['train_labels'].value_counts()\n",
    "train_image_counts\n",
    "print(train_image_counts)\n"
   ]
  },
  {
   "cell_type": "code",
   "execution_count": 31,
   "metadata": {},
   "outputs": [
    {
     "data": {
      "image/png": "[encoded data removed]",
      "text/plain": [
       "<Figure size 432x432 with 1 Axes>"
      ]
     },
     "metadata": {
      "needs_background": "light"
     },
     "output_type": "display_data"
    }
   ],
   "source": [
    "plt.figure(figsize=(6,6))\n",
    "plt.title('Abnormal and Normal cases')\n",
    "plt.xlabel('Cases')\n",
    "plt.ylabel('Count')\n",
    "sns.barplot(x= train_image_counts.index,y = train_image_counts.values,palette = 'hls')\n",
    "plt.xticks(range(len(train_image_counts.index)),['Normal[0]','Abnormal[1]'])\n",
    "plt.show()"
   ]
  },
  {
   "cell_type": "markdown",
   "metadata": {},
   "source": [
    "The training dataframe contains balanced sets of abnormal and normal X-Ray images. It is not a imbalanced dataset"
   ]
  },
  {
   "cell_type": "markdown",
   "metadata": {},
   "source": [
    "# Abnormal and normal cases count in valid_image dataframe"
   ]
  },
  {
   "cell_type": "code",
   "execution_count": 32,
   "metadata": {},
   "outputs": [],
   "source": [
    "#Defining the function labelling_valid which creates a column train_labels containing the info about bone anormality\n",
    "def labelling_valid(valid_image):\n",
    "    for i in range(len(valid_image['valid_path'])):\n",
    "        if ('positive' in valid_image.loc[i,'valid_path']):\n",
    "            valid_image.loc[i,'valid_labels'] = 1\n",
    "        else:\n",
    "            valid_image.loc[i,'valid_labels'] = 0"
   ]
  },
  {
   "cell_type": "code",
   "execution_count": 33,
   "metadata": {},
   "outputs": [],
   "source": [
    "#Calling function labelling_valid\n",
    "labelling_valid(valid_image)"
   ]
  },
  {
   "cell_type": "code",
   "execution_count": 34,
   "metadata": {},
   "outputs": [
    {
     "name": "stdout",
     "output_type": "stream",
     "text": [
      "                                          valid_path  valid_labels\n",
      "0  MURA-v1.1/valid/XR_WRIST/patient11185/study1_p...           1.0\n",
      "1  MURA-v1.1/valid/XR_WRIST/patient11185/study1_p...           1.0\n",
      "2  MURA-v1.1/valid/XR_WRIST/patient11185/study1_p...           1.0\n",
      "3  MURA-v1.1/valid/XR_WRIST/patient11185/study1_p...           1.0\n",
      "4  MURA-v1.1/valid/XR_WRIST/patient11186/study1_p...           1.0\n"
     ]
    }
   ],
   "source": [
    "print(valid_image.head())"
   ]
  },
  {
   "cell_type": "code",
   "execution_count": 36,
   "metadata": {},
   "outputs": [
    {
     "name": "stdout",
     "output_type": "stream",
     "text": [
      "0.0    1667\n",
      "1.0    1530\n",
      "Name: valid_labels, dtype: int64\n"
     ]
    }
   ],
   "source": [
    "valid_image_counts =  valid_image['valid_labels'].value_counts()\n",
    "valid_image_counts\n",
    "print(valid_image_counts)\n"
   ]
  },
  {
   "cell_type": "code",
   "execution_count": 37,
   "metadata": {},
   "outputs": [
    {
     "data": {
      "image/png": "[encoded data removed]",
      "text/plain": [
       "<Figure size 432x432 with 1 Axes>"
      ]
     },
     "metadata": {
      "needs_background": "light"
     },
     "output_type": "display_data"
    }
   ],
   "source": [
    "plt.figure(figsize=(6,6))\n",
    "plt.title('Abnormal and Normal cases')\n",
    "plt.xlabel('Cases')\n",
    "plt.ylabel('Count')\n",
    "sns.barplot(x= valid_image_counts.index,y = valid_image_counts.values,palette = 'hls')\n",
    "plt.xticks(range(len(valid_image_counts.index)),['Normal[0]','Abnormal[1]'])\n",
    "plt.show()"
   ]
  },
  {
   "cell_type": "markdown",
   "metadata": {},
   "source": [
    "The validating dataframe contains balanced sets of abnormal and normal X-Ray images. It is not a imbalanced dataset"
   ]
  },
  {
   "cell_type": "markdown",
   "metadata": {},
   "source": [
    "#  Count of X-Rays of indivudual body parts from training dataset"
   ]
  },
  {
   "cell_type": "code",
   "execution_count": 38,
   "metadata": {},
   "outputs": [],
   "source": [
    "#Counting the indivudual part X-Rays and storing it in a separate column 'body_part_and_condition'\n",
    "def train_count_XRays(train_image):\n",
    "    for i in range(len(train_image['train_path'])):\n",
    "        if ((\"SHOULDER\" in train_image.loc[i,'train_path'])) :\n",
    "            train_image.loc[i,'body_part'] = 'shoulder'   \n",
    "        elif ((\"SHOULDER\" in train_image.loc[i,'train_path'])) :\n",
    "            train_image.loc[i,'body_part'] = 'shoulder'           \n",
    "        elif ((\"WRIST\" in train_image.loc[i,'train_path']) ):\n",
    "            train_image.loc[i,'body_part'] = 'WRIST'\n",
    "        elif ((\"WRIST\" in train_image.loc[i,'train_path']) ):\n",
    "            train_image.loc[i,'body_part'] = 'WRIST'     \n",
    "        elif ((\"FOREARM\" in train_image.loc[i,'train_path']) ):\n",
    "            train_image.loc[i,'body_part'] = 'FOREARM'\n",
    "        elif ((\"FOREARM\" in train_image.loc[i,'train_path'])):\n",
    "            train_image.loc[i,'body_part'] = 'FOREARM'\n",
    "        elif ((\"HAND\" in train_image.loc[i,'train_path']) ):\n",
    "            train_image.loc[i,'body_part'] = 'HAND'\n",
    "        elif ((\"HAND\" in train_image.loc[i,'train_path']) ):\n",
    "            train_image.loc[i,'body_part'] = 'HAND'  \n",
    "        elif ((\"HUMERUS\" in train_image.loc[i,'train_path']) ):\n",
    "            train_image.loc[i,'body_part'] = 'HUMERUS'\n",
    "        elif ((\"HUMERUS\" in train_image.loc[i,'train_path'])):\n",
    "            train_image.loc[i,'body_part'] = 'HUMERUS'           \n",
    "        elif ((\"FINGER\" in train_image.loc[i,'train_path'])):\n",
    "            train_image.loc[i,'body_part'] = 'FINGER'            \n",
    "        elif ((\"FINGER\" in train_image.loc[i,'train_path'])):\n",
    "            train_image.loc[i,'body_part'] = 'FINGER'                        \n",
    "        elif ((\"ELBOW\" in train_image.loc[i,'train_path'])):\n",
    "            train_image.loc[i,'body_part'] = 'ELBOW'            \n",
    "        elif ((\"ELBOW\" in train_image.loc[i,'train_path'])) :\n",
    "            train_image.loc[i,'body_part'] = 'ELBOW'            "
   ]
  },
  {
   "cell_type": "code",
   "execution_count": 39,
   "metadata": {},
   "outputs": [],
   "source": [
    "#Call the function count_XRays to find the indivudual part X-Rays by passing the training dataframe as argument\n",
    "train_count_XRays(train_image)"
   ]
  },
  {
   "cell_type": "code",
   "execution_count": 40,
   "metadata": {},
   "outputs": [
    {
     "data": {
      "text/html": [
       "<div>\n",
       "<style scoped>\n",
       "    .dataframe tbody tr th:only-of-type {\n",
       "        vertical-align: middle;\n",
       "    }\n",
       "\n",
       "    .dataframe tbody tr th {\n",
       "        vertical-align: top;\n",
       "    }\n",
       "\n",
       "    .dataframe thead th {\n",
       "        text-align: right;\n",
       "    }\n",
       "</style>\n",
       "<table border=\"1\" class=\"dataframe\">\n",
       "  <thead>\n",
       "    <tr style=\"text-align: right;\">\n",
       "      <th></th>\n",
       "      <th>train_path</th>\n",
       "      <th>train_labels</th>\n",
       "      <th>body_part</th>\n",
       "    </tr>\n",
       "  </thead>\n",
       "  <tbody>\n",
       "    <tr>\n",
       "      <th>0</th>\n",
       "      <td>MURA-v1.1/train/XR_SHOULDER/patient00001/study...</td>\n",
       "      <td>1.0</td>\n",
       "      <td>shoulder</td>\n",
       "    </tr>\n",
       "    <tr>\n",
       "      <th>1</th>\n",
       "      <td>MURA-v1.1/train/XR_SHOULDER/patient00001/study...</td>\n",
       "      <td>1.0</td>\n",
       "      <td>shoulder</td>\n",
       "    </tr>\n",
       "    <tr>\n",
       "      <th>2</th>\n",
       "      <td>MURA-v1.1/train/XR_SHOULDER/patient00001/study...</td>\n",
       "      <td>1.0</td>\n",
       "      <td>shoulder</td>\n",
       "    </tr>\n",
       "    <tr>\n",
       "      <th>3</th>\n",
       "      <td>MURA-v1.1/train/XR_SHOULDER/patient00002/study...</td>\n",
       "      <td>1.0</td>\n",
       "      <td>shoulder</td>\n",
       "    </tr>\n",
       "    <tr>\n",
       "      <th>4</th>\n",
       "      <td>MURA-v1.1/train/XR_SHOULDER/patient00002/study...</td>\n",
       "      <td>1.0</td>\n",
       "      <td>shoulder</td>\n",
       "    </tr>\n",
       "  </tbody>\n",
       "</table>\n",
       "</div>"
      ],
      "text/plain": [
       "                                          train_path  train_labels body_part\n",
       "0  MURA-v1.1/train/XR_SHOULDER/patient00001/study...           1.0  shoulder\n",
       "1  MURA-v1.1/train/XR_SHOULDER/patient00001/study...           1.0  shoulder\n",
       "2  MURA-v1.1/train/XR_SHOULDER/patient00001/study...           1.0  shoulder\n",
       "3  MURA-v1.1/train/XR_SHOULDER/patient00002/study...           1.0  shoulder\n",
       "4  MURA-v1.1/train/XR_SHOULDER/patient00002/study...           1.0  shoulder"
      ]
     },
     "execution_count": 40,
     "metadata": {},
     "output_type": "execute_result"
    }
   ],
   "source": [
    "train_image.head()"
   ]
  },
  {
   "cell_type": "code",
   "execution_count": 41,
   "metadata": {},
   "outputs": [
    {
     "data": {
      "image/png": "[encoded data removed]",
      "text/plain": [
       "<Figure size 720x720 with 1 Axes>"
      ]
     },
     "metadata": {
      "needs_background": "light"
     },
     "output_type": "display_data"
    }
   ],
   "source": [
    "plt.figure(figsize=(10,10))\n",
    "plt.title('Abnormal and Normal cases in training dataset')\n",
    "plt.xlabel('Cases')\n",
    "plt.ylabel('Count')\n",
    "sns.countplot(x=\"body_part\", hue=\"train_labels\", data=train_image,palette=\"Set3\")\n",
    "plt.show()"
   ]
  },
  {
   "cell_type": "markdown",
   "metadata": {},
   "source": [
    "Even if consider  x-rays of body parts separately, the abnormal and normal cases are somewhat balanced in training datasets."
   ]
  },
  {
   "cell_type": "markdown",
   "metadata": {},
   "source": [
    "# Count of X-Rays of indivudual body parts from validating dataset"
   ]
  },
  {
   "cell_type": "code",
   "execution_count": 42,
   "metadata": {},
   "outputs": [],
   "source": [
    "#Counting the indivudual part X-Rays and storing it in a separate column 'body_part_and_condition'\n",
    "def valid_count_XRays(valid_image):\n",
    "    for i in range(len(valid_image['valid_path'])):\n",
    "        if ((\"SHOULDER\" in valid_image.loc[i,'valid_path']) ):\n",
    "            valid_image.loc[i,'body_part'] = 'shoulder'            \n",
    "        elif ((\"SHOULDER\" in valid_image.loc[i,'valid_path']) ):\n",
    "            valid_image.loc[i,'body_part'] = 'shoulder'                                                            \n",
    "        elif ((\"WRIST\" in valid_image.loc[i,'valid_path']) ):\n",
    "            valid_image.loc[i,'body_part'] = 'WRIST'           \n",
    "        elif ((\"WRIST\" in valid_image.loc[i,'valid_path']) ):\n",
    "            valid_image.loc[i,'body_part'] = 'WRIST'                                                            \n",
    "        elif ((\"FOREARM\" in valid_image.loc[i,'valid_path']) ):\n",
    "            valid_image.loc[i,'body_part'] = 'FOREARM'           \n",
    "        elif ((\"FOREARM\" in valid_image.loc[i,'valid_path'])):\n",
    "            valid_image.loc[i,'body_part'] = 'FOREARM'                                   \n",
    "        elif ((\"HAND\" in valid_image.loc[i,'valid_path'])):\n",
    "            valid_image.loc[i,'body_part'] = 'HAND'            \n",
    "        elif ((\"HAND\" in valid_image.loc[i,'valid_path']) ):\n",
    "            valid_image.loc[i,'body_part'] = 'HAND'                                           \n",
    "        elif ((\"HUMERUS\" in valid_image.loc[i,'valid_path'])):\n",
    "            valid_image.loc[i,'body_part'] = 'HUMERUS'            \n",
    "        elif ((\"HUMERUS\" in valid_image.loc[i,'valid_path'])):\n",
    "            valid_image.loc[i,'body_part'] = 'HUMERUS'                                    \n",
    "        elif ((\"FINGER\" in valid_image.loc[i,'valid_path']) ):\n",
    "            valid_image.loc[i,'body_part'] = 'FINGER'            \n",
    "        elif ((\"FINGER\" in valid_image.loc[i,'valid_path']) ):\n",
    "            valid_image.loc[i,'body_part'] = 'FINGER'                                    \n",
    "        elif ((\"ELBOW\" in valid_image.loc[i,'valid_path']) ):\n",
    "            valid_image.loc[i,'body_part'] = 'ELBOW'            \n",
    "        elif ((\"ELBOW\" in valid_image.loc[i,'valid_path']) ):\n",
    "            valid_image.loc[i,'body_part'] = 'ELBOW'            "
   ]
  },
  {
   "cell_type": "code",
   "execution_count": 43,
   "metadata": {},
   "outputs": [],
   "source": [
    "valid_count_XRays(valid_image)"
   ]
  },
  {
   "cell_type": "code",
   "execution_count": 44,
   "metadata": {},
   "outputs": [
    {
     "data": {
      "text/html": [
       "<div>\n",
       "<style scoped>\n",
       "    .dataframe tbody tr th:only-of-type {\n",
       "        vertical-align: middle;\n",
       "    }\n",
       "\n",
       "    .dataframe tbody tr th {\n",
       "        vertical-align: top;\n",
       "    }\n",
       "\n",
       "    .dataframe thead th {\n",
       "        text-align: right;\n",
       "    }\n",
       "</style>\n",
       "<table border=\"1\" class=\"dataframe\">\n",
       "  <thead>\n",
       "    <tr style=\"text-align: right;\">\n",
       "      <th></th>\n",
       "      <th>valid_path</th>\n",
       "      <th>valid_labels</th>\n",
       "      <th>body_part</th>\n",
       "    </tr>\n",
       "  </thead>\n",
       "  <tbody>\n",
       "    <tr>\n",
       "      <th>0</th>\n",
       "      <td>MURA-v1.1/valid/XR_WRIST/patient11185/study1_p...</td>\n",
       "      <td>1.0</td>\n",
       "      <td>WRIST</td>\n",
       "    </tr>\n",
       "    <tr>\n",
       "      <th>1</th>\n",
       "      <td>MURA-v1.1/valid/XR_WRIST/patient11185/study1_p...</td>\n",
       "      <td>1.0</td>\n",
       "      <td>WRIST</td>\n",
       "    </tr>\n",
       "    <tr>\n",
       "      <th>2</th>\n",
       "      <td>MURA-v1.1/valid/XR_WRIST/patient11185/study1_p...</td>\n",
       "      <td>1.0</td>\n",
       "      <td>WRIST</td>\n",
       "    </tr>\n",
       "    <tr>\n",
       "      <th>3</th>\n",
       "      <td>MURA-v1.1/valid/XR_WRIST/patient11185/study1_p...</td>\n",
       "      <td>1.0</td>\n",
       "      <td>WRIST</td>\n",
       "    </tr>\n",
       "    <tr>\n",
       "      <th>4</th>\n",
       "      <td>MURA-v1.1/valid/XR_WRIST/patient11186/study1_p...</td>\n",
       "      <td>1.0</td>\n",
       "      <td>WRIST</td>\n",
       "    </tr>\n",
       "  </tbody>\n",
       "</table>\n",
       "</div>"
      ],
      "text/plain": [
       "                                          valid_path  valid_labels body_part\n",
       "0  MURA-v1.1/valid/XR_WRIST/patient11185/study1_p...           1.0     WRIST\n",
       "1  MURA-v1.1/valid/XR_WRIST/patient11185/study1_p...           1.0     WRIST\n",
       "2  MURA-v1.1/valid/XR_WRIST/patient11185/study1_p...           1.0     WRIST\n",
       "3  MURA-v1.1/valid/XR_WRIST/patient11185/study1_p...           1.0     WRIST\n",
       "4  MURA-v1.1/valid/XR_WRIST/patient11186/study1_p...           1.0     WRIST"
      ]
     },
     "execution_count": 44,
     "metadata": {},
     "output_type": "execute_result"
    }
   ],
   "source": [
    "valid_image.head()"
   ]
  },
  {
   "cell_type": "markdown",
   "metadata": {},
   "source": [
    "Plotting the abnormal and normal cases count from validating dataset"
   ]
  },
  {
   "cell_type": "code",
   "execution_count": 45,
   "metadata": {},
   "outputs": [
    {
     "data": {
      "image/png": "[encoded data removed]",
      "text/plain": [
       "<Figure size 720x720 with 1 Axes>"
      ]
     },
     "metadata": {
      "needs_background": "light"
     },
     "output_type": "display_data"
    }
   ],
   "source": [
    "plt.figure(figsize=(10,10))\n",
    "plt.title('Abnormal and Normal cases in validating dataset')\n",
    "plt.xlabel('Cases')\n",
    "plt.ylabel('Count')\n",
    "sns.countplot(x=\"body_part\", hue=\"valid_labels\", data=valid_image,palette=\"Set3\")\n",
    "plt.show()"
   ]
  },
  {
   "cell_type": "markdown",
   "metadata": {},
   "source": [
    "In validating dataset the count of abnormal and normal are balanced if we consider x-rays of body parts separately."
   ]
  },
  {
   "cell_type": "code",
   "execution_count": null,
   "metadata": {},
   "outputs": [],
   "source": []
  }
 ],
 "metadata": {
  "kernelspec": {
   "display_name": "Python 3",
   "language": "python",
   "name": "python3"
  },
  "language_info": {
   "codemirror_mode": {
    "name": "ipython",
    "version": 3
   },
   "file_extension": ".py",
   "mimetype": "text/x-python",
   "name": "python",
   "nbconvert_exporter": "python",
   "pygments_lexer": "ipython3",
   "version": "3.7.6"
  }
 },
 "nbformat": 4,
 "nbformat_minor": 4
}
