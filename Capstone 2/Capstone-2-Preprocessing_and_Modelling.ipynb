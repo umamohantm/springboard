{
 "cells": [
  {
   "cell_type": "markdown",
   "metadata": {},
   "source": [
    "# Abnormality Detection in bone X-Ray Radiographs"
   ]
  },
  {
   "cell_type": "markdown",
   "metadata": {},
   "source": [
    "# Preprocessing"
   ]
  },
  {
   "cell_type": "markdown",
   "metadata": {},
   "source": [
    "Import libraries"
   ]
  },
  {
   "cell_type": "code",
   "execution_count": 1,
   "metadata": {},
   "outputs": [],
   "source": [
    "import numpy as np\n",
    "import pandas as pd\n",
    "import matplotlib.pyplot as plt\n",
    "import cv2\n",
    "from skimage.filters import unsharp_mask\n",
    "import warnings\n",
    "warnings.filterwarnings('ignore')\n",
    "import re\n",
    "import os"
   ]
  },
  {
   "cell_type": "code",
   "execution_count": 2,
   "metadata": {},
   "outputs": [],
   "source": [
    "#Reading the training dataset using pd.read_csv()\n",
    "train = pd.read_csv(\"wrangled_files/train.csv\")\n",
    "#Reading the valid dataset\n",
    "valid = pd.read_csv(\"wrangled_files/valid.csv\")"
   ]
  },
  {
   "cell_type": "code",
   "execution_count": 3,
   "metadata": {},
   "outputs": [
    {
     "data": {
      "text/html": [
       "<div>\n",
       "<style scoped>\n",
       "    .dataframe tbody tr th:only-of-type {\n",
       "        vertical-align: middle;\n",
       "    }\n",
       "\n",
       "    .dataframe tbody tr th {\n",
       "        vertical-align: top;\n",
       "    }\n",
       "\n",
       "    .dataframe thead th {\n",
       "        text-align: right;\n",
       "    }\n",
       "</style>\n",
       "<table border=\"1\" class=\"dataframe\">\n",
       "  <thead>\n",
       "    <tr style=\"text-align: right;\">\n",
       "      <th></th>\n",
       "      <th>path</th>\n",
       "      <th>label</th>\n",
       "      <th>body_part</th>\n",
       "      <th>study_type</th>\n",
       "    </tr>\n",
       "  </thead>\n",
       "  <tbody>\n",
       "    <tr>\n",
       "      <th>0</th>\n",
       "      <td>MURA-v1.1/train/XR_SHOULDER/patient00001/study...</td>\n",
       "      <td>1.0</td>\n",
       "      <td>SHOULDER</td>\n",
       "      <td>study1</td>\n",
       "    </tr>\n",
       "    <tr>\n",
       "      <th>1</th>\n",
       "      <td>MURA-v1.1/train/XR_SHOULDER/patient00001/study...</td>\n",
       "      <td>1.0</td>\n",
       "      <td>SHOULDER</td>\n",
       "      <td>study1</td>\n",
       "    </tr>\n",
       "    <tr>\n",
       "      <th>2</th>\n",
       "      <td>MURA-v1.1/train/XR_SHOULDER/patient00001/study...</td>\n",
       "      <td>1.0</td>\n",
       "      <td>SHOULDER</td>\n",
       "      <td>study1</td>\n",
       "    </tr>\n",
       "    <tr>\n",
       "      <th>3</th>\n",
       "      <td>MURA-v1.1/train/XR_SHOULDER/patient00002/study...</td>\n",
       "      <td>1.0</td>\n",
       "      <td>SHOULDER</td>\n",
       "      <td>study1</td>\n",
       "    </tr>\n",
       "    <tr>\n",
       "      <th>4</th>\n",
       "      <td>MURA-v1.1/train/XR_SHOULDER/patient00002/study...</td>\n",
       "      <td>1.0</td>\n",
       "      <td>SHOULDER</td>\n",
       "      <td>study1</td>\n",
       "    </tr>\n",
       "  </tbody>\n",
       "</table>\n",
       "</div>"
      ],
      "text/plain": [
       "                                                path  label body_part  \\\n",
       "0  MURA-v1.1/train/XR_SHOULDER/patient00001/study...    1.0  SHOULDER   \n",
       "1  MURA-v1.1/train/XR_SHOULDER/patient00001/study...    1.0  SHOULDER   \n",
       "2  MURA-v1.1/train/XR_SHOULDER/patient00001/study...    1.0  SHOULDER   \n",
       "3  MURA-v1.1/train/XR_SHOULDER/patient00002/study...    1.0  SHOULDER   \n",
       "4  MURA-v1.1/train/XR_SHOULDER/patient00002/study...    1.0  SHOULDER   \n",
       "\n",
       "  study_type  \n",
       "0     study1  \n",
       "1     study1  \n",
       "2     study1  \n",
       "3     study1  \n",
       "4     study1  "
      ]
     },
     "execution_count": 3,
     "metadata": {},
     "output_type": "execute_result"
    }
   ],
   "source": [
    "train.drop(columns = ['Unnamed: 0'],inplace = True)\n",
    "#Renaming the columns of train dataframe\n",
    "train.rename(columns = {'train_path':'path','train_labels':'label'}, inplace = True)\n",
    "#Printing the first five rows of dataframe \n",
    "train.head()"
   ]
  },
  {
   "cell_type": "code",
   "execution_count": 4,
   "metadata": {},
   "outputs": [
    {
     "data": {
      "text/html": [
       "<div>\n",
       "<style scoped>\n",
       "    .dataframe tbody tr th:only-of-type {\n",
       "        vertical-align: middle;\n",
       "    }\n",
       "\n",
       "    .dataframe tbody tr th {\n",
       "        vertical-align: top;\n",
       "    }\n",
       "\n",
       "    .dataframe thead th {\n",
       "        text-align: right;\n",
       "    }\n",
       "</style>\n",
       "<table border=\"1\" class=\"dataframe\">\n",
       "  <thead>\n",
       "    <tr style=\"text-align: right;\">\n",
       "      <th></th>\n",
       "      <th>path</th>\n",
       "      <th>label</th>\n",
       "      <th>body_part</th>\n",
       "      <th>study_type</th>\n",
       "    </tr>\n",
       "  </thead>\n",
       "  <tbody>\n",
       "    <tr>\n",
       "      <th>0</th>\n",
       "      <td>MURA-v1.1/valid/XR_WRIST/patient11185/study1_p...</td>\n",
       "      <td>1.0</td>\n",
       "      <td>WRIST</td>\n",
       "      <td>study1</td>\n",
       "    </tr>\n",
       "    <tr>\n",
       "      <th>1</th>\n",
       "      <td>MURA-v1.1/valid/XR_WRIST/patient11185/study1_p...</td>\n",
       "      <td>1.0</td>\n",
       "      <td>WRIST</td>\n",
       "      <td>study1</td>\n",
       "    </tr>\n",
       "    <tr>\n",
       "      <th>2</th>\n",
       "      <td>MURA-v1.1/valid/XR_WRIST/patient11185/study1_p...</td>\n",
       "      <td>1.0</td>\n",
       "      <td>WRIST</td>\n",
       "      <td>study1</td>\n",
       "    </tr>\n",
       "    <tr>\n",
       "      <th>3</th>\n",
       "      <td>MURA-v1.1/valid/XR_WRIST/patient11185/study1_p...</td>\n",
       "      <td>1.0</td>\n",
       "      <td>WRIST</td>\n",
       "      <td>study1</td>\n",
       "    </tr>\n",
       "    <tr>\n",
       "      <th>4</th>\n",
       "      <td>MURA-v1.1/valid/XR_WRIST/patient11186/study1_p...</td>\n",
       "      <td>1.0</td>\n",
       "      <td>WRIST</td>\n",
       "      <td>study1</td>\n",
       "    </tr>\n",
       "  </tbody>\n",
       "</table>\n",
       "</div>"
      ],
      "text/plain": [
       "                                                path  label body_part  \\\n",
       "0  MURA-v1.1/valid/XR_WRIST/patient11185/study1_p...    1.0     WRIST   \n",
       "1  MURA-v1.1/valid/XR_WRIST/patient11185/study1_p...    1.0     WRIST   \n",
       "2  MURA-v1.1/valid/XR_WRIST/patient11185/study1_p...    1.0     WRIST   \n",
       "3  MURA-v1.1/valid/XR_WRIST/patient11185/study1_p...    1.0     WRIST   \n",
       "4  MURA-v1.1/valid/XR_WRIST/patient11186/study1_p...    1.0     WRIST   \n",
       "\n",
       "  study_type  \n",
       "0     study1  \n",
       "1     study1  \n",
       "2     study1  \n",
       "3     study1  \n",
       "4     study1  "
      ]
     },
     "execution_count": 4,
     "metadata": {},
     "output_type": "execute_result"
    }
   ],
   "source": [
    "valid.drop(columns = ['Unnamed: 0'],inplace = True)\n",
    "#Renaming the valid dataframe columns \n",
    "valid.rename(columns = {'valid_path':'path','valid_labels':'label'}, inplace = True) \n",
    "#Printing the first five rows of valid dataframe\n",
    "valid.head()"
   ]
  },
  {
   "cell_type": "code",
   "execution_count": 5,
   "metadata": {},
   "outputs": [
    {
     "data": {
      "text/plain": [
       "'C:\\\\Users\\\\user\\\\Springboard\\\\Course\\\\Capstone - 2\\\\MURA-v1.1'"
      ]
     },
     "execution_count": 5,
     "metadata": {},
     "output_type": "execute_result"
    }
   ],
   "source": [
    "#Printing the current working  directory \n",
    "pwd"
   ]
  },
  {
   "cell_type": "code",
   "execution_count": 33,
   "metadata": {},
   "outputs": [],
   "source": [
    "#Defing the preprocessing function\n",
    "def preprocessing(df):\n",
    "    for i in range(0,len(df['path'])):\n",
    "         #Read Image\n",
    "        img_path =  df.loc[i,'path']\n",
    "        image = cv2.imread(img_path)\n",
    "    \n",
    "        #Resize image\n",
    "        height = 224\n",
    "        width = 224\n",
    "        dim = (width,height)\n",
    "        image =  cv2.resize(image, dim, interpolation= cv2.INTER_LINEAR)\n",
    "    \n",
    "        #Increasing contrast of the image \n",
    "        image=cv2.cvtColor(image,cv2.COLOR_BGR2GRAY)\n",
    "        # using Contrast Limited Adaptive Histogram Equliser to increase contrast \n",
    "        clahe=cv2.createCLAHE(clipLimit=2.0, tileGridSize=(8,8)) \n",
    "        image =clahe.apply(image)\n",
    "    \n",
    "        #Detecting edges\n",
    "        blurred = cv2.GaussianBlur(image,(5,5),0) # For image smoothing \n",
    "        canny = cv2.Canny(image,100,200) # For detecting edges\n",
    "        pts = np.argwhere(canny>0)\n",
    "        #using the edges detected getting the threshold values \n",
    "        try:\n",
    "            y1,x1 = pts.min(axis=0)\n",
    "            y2,x2 = pts.max(axis=0)\n",
    "            #Cropping the image based on the thresholds obtained\n",
    "            image = image[y1:y2, x1:x2]\n",
    "        except ValueError:  #raised if `y1,x1,y2,x2` is empty.\n",
    "            pass\n",
    "        \n",
    "            \n",
    "        #Call the funtion creating the path for storage\n",
    "        if not os.path.exists('gen_data'):\n",
    "            os.mkdir('gen_data')\n",
    "        \n",
    "        #Creating the outer directory\n",
    "        out_dir = 'gen_data/'\n",
    "        #Getting the folder path\n",
    "        path = re.search(r'(/.*/.*/.*/.*/)',df.loc[i,'path'])\n",
    "        path = path.group(1)\n",
    "        \n",
    "    \n",
    "        #Adding outer directory and folder\n",
    "        file_out = out_dir + 'MURA-v1.1' + path \n",
    "        if not os.path.exists(file_out):\n",
    "            os.makedirs(file_out)\n",
    "                    \n",
    "        #creating the image name \n",
    "        img_name = re.search(r'/.*/.*/.*/.*/(.*)',df.loc[i,'path'])\n",
    "        img_name = img_name.group(1)\n",
    "        \n",
    "    \n",
    "        #adding the paths to get the final path(same path folder is created inside a outer directory) \n",
    "        final_path = file_out  + img_name\n",
    "        \n",
    "        \n",
    "        #writing the preprocessed image into the same path mentioned in csv file \n",
    "        try:\n",
    "            cv2.imwrite(final_path , image)\n",
    "            cv2. waitKey(0)\n",
    "            cv2. destroyAllWindows()\n",
    "        except cv2.error as e:\n",
    "            pass \n",
    "   \n"
   ]
  },
  {
   "cell_type": "code",
   "execution_count": 34,
   "metadata": {},
   "outputs": [],
   "source": [
    "#Passing the valid df as argument in function preprocessing\n",
    "preprocessing(train)\n",
    "#Passing the valid df as argument in function preprocessing\n",
    "preprocessing(valid)"
   ]
  },
  {
   "cell_type": "code",
   "execution_count": 35,
   "metadata": {},
   "outputs": [],
   "source": [
    "train.to_csv(\"gen_data/train.csv\",index=True)\n",
    "valid.to_csv(\"gen_data/valid.csv\",index=True)"
   ]
  },
  {
   "cell_type": "markdown",
   "metadata": {},
   "source": [
    "# Modelling"
   ]
  },
  {
   "cell_type": "code",
   "execution_count": null,
   "metadata": {},
   "outputs": [],
   "source": []
  },
  {
   "cell_type": "code",
   "execution_count": null,
   "metadata": {},
   "outputs": [],
   "source": []
  },
  {
   "cell_type": "code",
   "execution_count": null,
   "metadata": {},
   "outputs": [],
   "source": []
  },
  {
   "cell_type": "code",
   "execution_count": null,
   "metadata": {},
   "outputs": [],
   "source": []
  },
  {
   "cell_type": "code",
   "execution_count": null,
   "metadata": {},
   "outputs": [],
   "source": [
    "\n",
    "\n"
   ]
  },
  {
   "cell_type": "code",
   "execution_count": null,
   "metadata": {},
   "outputs": [],
   "source": []
  }
 ],
 "metadata": {
  "kernelspec": {
   "display_name": "Python 3",
   "language": "python",
   "name": "python3"
  },
  "language_info": {
   "codemirror_mode": {
    "name": "ipython",
    "version": 3
   },
   "file_extension": ".py",
   "mimetype": "text/x-python",
   "name": "python",
   "nbconvert_exporter": "python",
   "pygments_lexer": "ipython3",
   "version": "3.7.6"
  }
 },
 "nbformat": 4,
 "nbformat_minor": 4
}
