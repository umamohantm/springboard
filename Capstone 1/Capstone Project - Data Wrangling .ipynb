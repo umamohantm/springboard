{
 "cells": [
  {
   "cell_type": "markdown",
   "metadata": {},
   "source": [
    "# Capstone 1 Step 2 Data Wrangling\n"
   ]
  },
  {
   "cell_type": "markdown",
   "metadata": {},
   "source": [
    "<font color = 'teal'>Data wrangling is the second step in Data Science methods. Data Wrangling includes Data Collection, Data Organisation, Data Definition and Data Cleaning.</font>"
   ]
  },
  {
   "cell_type": "markdown",
   "metadata": {},
   "source": [
    "# Data Collection"
   ]
  },
  {
   "cell_type": "markdown",
   "metadata": {},
   "source": [
    "<font color='teal'>Data Collection includes importing the packages and modules in python. And it includes loading the data in pandas dataframe.</font>\n",
    "\n"
   ]
  },
  {
   "cell_type": "code",
   "execution_count": 1,
   "metadata": {},
   "outputs": [],
   "source": [
    "#importing libraries\n",
    "import pandas as pd\n",
    "import numpy as np\n",
    "import datetime\n",
    "import matplotlib.pyplot as plt\n",
    "import seaborn as sns \n",
    "import os\n",
    "%matplotlib inline"
   ]
  },
  {
   "cell_type": "code",
   "execution_count": 2,
   "metadata": {},
   "outputs": [
    {
     "data": {
      "text/plain": [
       "'C:\\\\Users\\\\user\\\\Springboard\\\\Course\\\\CapStone - 1'"
      ]
     },
     "execution_count": 2,
     "metadata": {},
     "output_type": "execute_result"
    }
   ],
   "source": [
    "#Printing the current working directory\n",
    "os.getcwd()"
   ]
  },
  {
   "cell_type": "code",
   "execution_count": 3,
   "metadata": {},
   "outputs": [
    {
     "data": {
      "text/plain": [
       "['.ipynb_checkpoints',\n",
       " 'Capstone Project - Data Wrangling .ipynb',\n",
       " 'Capstone Project - Exploratory Data Analysis.ipynb',\n",
       " 'covid_data.csv',\n",
       " 'owid-covid-data-codebook.md.txt']"
      ]
     },
     "execution_count": 3,
     "metadata": {},
     "output_type": "execute_result"
    }
   ],
   "source": [
    "#printing the files in the current working directory\n",
    "os.listdir()"
   ]
  },
  {
   "cell_type": "markdown",
   "metadata": {},
   "source": [
    "<font color='teal'>Loading the data from csv file into a pandas dataframe df.</font>"
   ]
  },
  {
   "cell_type": "code",
   "execution_count": 4,
   "metadata": {},
   "outputs": [
    {
     "data": {
      "text/html": [
       "<div>\n",
       "<style scoped>\n",
       "    .dataframe tbody tr th:only-of-type {\n",
       "        vertical-align: middle;\n",
       "    }\n",
       "\n",
       "    .dataframe tbody tr th {\n",
       "        vertical-align: top;\n",
       "    }\n",
       "\n",
       "    .dataframe thead th {\n",
       "        text-align: right;\n",
       "    }\n",
       "</style>\n",
       "<table border=\"1\" class=\"dataframe\">\n",
       "  <thead>\n",
       "    <tr style=\"text-align: right;\">\n",
       "      <th></th>\n",
       "      <th>iso_code</th>\n",
       "      <th>continent</th>\n",
       "      <th>location</th>\n",
       "      <th>date</th>\n",
       "      <th>total_cases</th>\n",
       "      <th>new_cases</th>\n",
       "      <th>total_deaths</th>\n",
       "      <th>new_deaths</th>\n",
       "      <th>total_cases_per_million</th>\n",
       "      <th>new_cases_per_million</th>\n",
       "      <th>...</th>\n",
       "      <th>aged_70_older</th>\n",
       "      <th>gdp_per_capita</th>\n",
       "      <th>extreme_poverty</th>\n",
       "      <th>cvd_death_rate</th>\n",
       "      <th>diabetes_prevalence</th>\n",
       "      <th>female_smokers</th>\n",
       "      <th>male_smokers</th>\n",
       "      <th>handwashing_facilities</th>\n",
       "      <th>hospital_beds_per_thousand</th>\n",
       "      <th>life_expectancy</th>\n",
       "    </tr>\n",
       "  </thead>\n",
       "  <tbody>\n",
       "    <tr>\n",
       "      <th>0</th>\n",
       "      <td>AFG</td>\n",
       "      <td>Asia</td>\n",
       "      <td>Afghanistan</td>\n",
       "      <td>2019-12-31</td>\n",
       "      <td>0.0</td>\n",
       "      <td>0.0</td>\n",
       "      <td>0.0</td>\n",
       "      <td>0.0</td>\n",
       "      <td>0.0</td>\n",
       "      <td>0.0</td>\n",
       "      <td>...</td>\n",
       "      <td>1.337</td>\n",
       "      <td>1803.987</td>\n",
       "      <td>NaN</td>\n",
       "      <td>597.029</td>\n",
       "      <td>9.59</td>\n",
       "      <td>NaN</td>\n",
       "      <td>NaN</td>\n",
       "      <td>37.746</td>\n",
       "      <td>0.5</td>\n",
       "      <td>64.83</td>\n",
       "    </tr>\n",
       "    <tr>\n",
       "      <th>1</th>\n",
       "      <td>AFG</td>\n",
       "      <td>Asia</td>\n",
       "      <td>Afghanistan</td>\n",
       "      <td>2020-01-01</td>\n",
       "      <td>0.0</td>\n",
       "      <td>0.0</td>\n",
       "      <td>0.0</td>\n",
       "      <td>0.0</td>\n",
       "      <td>0.0</td>\n",
       "      <td>0.0</td>\n",
       "      <td>...</td>\n",
       "      <td>1.337</td>\n",
       "      <td>1803.987</td>\n",
       "      <td>NaN</td>\n",
       "      <td>597.029</td>\n",
       "      <td>9.59</td>\n",
       "      <td>NaN</td>\n",
       "      <td>NaN</td>\n",
       "      <td>37.746</td>\n",
       "      <td>0.5</td>\n",
       "      <td>64.83</td>\n",
       "    </tr>\n",
       "    <tr>\n",
       "      <th>2</th>\n",
       "      <td>AFG</td>\n",
       "      <td>Asia</td>\n",
       "      <td>Afghanistan</td>\n",
       "      <td>2020-01-02</td>\n",
       "      <td>0.0</td>\n",
       "      <td>0.0</td>\n",
       "      <td>0.0</td>\n",
       "      <td>0.0</td>\n",
       "      <td>0.0</td>\n",
       "      <td>0.0</td>\n",
       "      <td>...</td>\n",
       "      <td>1.337</td>\n",
       "      <td>1803.987</td>\n",
       "      <td>NaN</td>\n",
       "      <td>597.029</td>\n",
       "      <td>9.59</td>\n",
       "      <td>NaN</td>\n",
       "      <td>NaN</td>\n",
       "      <td>37.746</td>\n",
       "      <td>0.5</td>\n",
       "      <td>64.83</td>\n",
       "    </tr>\n",
       "    <tr>\n",
       "      <th>3</th>\n",
       "      <td>AFG</td>\n",
       "      <td>Asia</td>\n",
       "      <td>Afghanistan</td>\n",
       "      <td>2020-01-03</td>\n",
       "      <td>0.0</td>\n",
       "      <td>0.0</td>\n",
       "      <td>0.0</td>\n",
       "      <td>0.0</td>\n",
       "      <td>0.0</td>\n",
       "      <td>0.0</td>\n",
       "      <td>...</td>\n",
       "      <td>1.337</td>\n",
       "      <td>1803.987</td>\n",
       "      <td>NaN</td>\n",
       "      <td>597.029</td>\n",
       "      <td>9.59</td>\n",
       "      <td>NaN</td>\n",
       "      <td>NaN</td>\n",
       "      <td>37.746</td>\n",
       "      <td>0.5</td>\n",
       "      <td>64.83</td>\n",
       "    </tr>\n",
       "    <tr>\n",
       "      <th>4</th>\n",
       "      <td>AFG</td>\n",
       "      <td>Asia</td>\n",
       "      <td>Afghanistan</td>\n",
       "      <td>2020-01-04</td>\n",
       "      <td>0.0</td>\n",
       "      <td>0.0</td>\n",
       "      <td>0.0</td>\n",
       "      <td>0.0</td>\n",
       "      <td>0.0</td>\n",
       "      <td>0.0</td>\n",
       "      <td>...</td>\n",
       "      <td>1.337</td>\n",
       "      <td>1803.987</td>\n",
       "      <td>NaN</td>\n",
       "      <td>597.029</td>\n",
       "      <td>9.59</td>\n",
       "      <td>NaN</td>\n",
       "      <td>NaN</td>\n",
       "      <td>37.746</td>\n",
       "      <td>0.5</td>\n",
       "      <td>64.83</td>\n",
       "    </tr>\n",
       "  </tbody>\n",
       "</table>\n",
       "<p>5 rows × 34 columns</p>\n",
       "</div>"
      ],
      "text/plain": [
       "  iso_code continent     location        date  total_cases  new_cases  \\\n",
       "0      AFG      Asia  Afghanistan  2019-12-31          0.0        0.0   \n",
       "1      AFG      Asia  Afghanistan  2020-01-01          0.0        0.0   \n",
       "2      AFG      Asia  Afghanistan  2020-01-02          0.0        0.0   \n",
       "3      AFG      Asia  Afghanistan  2020-01-03          0.0        0.0   \n",
       "4      AFG      Asia  Afghanistan  2020-01-04          0.0        0.0   \n",
       "\n",
       "   total_deaths  new_deaths  total_cases_per_million  new_cases_per_million  \\\n",
       "0           0.0         0.0                      0.0                    0.0   \n",
       "1           0.0         0.0                      0.0                    0.0   \n",
       "2           0.0         0.0                      0.0                    0.0   \n",
       "3           0.0         0.0                      0.0                    0.0   \n",
       "4           0.0         0.0                      0.0                    0.0   \n",
       "\n",
       "   ...  aged_70_older  gdp_per_capita  extreme_poverty  cvd_death_rate  \\\n",
       "0  ...          1.337        1803.987              NaN         597.029   \n",
       "1  ...          1.337        1803.987              NaN         597.029   \n",
       "2  ...          1.337        1803.987              NaN         597.029   \n",
       "3  ...          1.337        1803.987              NaN         597.029   \n",
       "4  ...          1.337        1803.987              NaN         597.029   \n",
       "\n",
       "   diabetes_prevalence  female_smokers  male_smokers  handwashing_facilities  \\\n",
       "0                 9.59             NaN           NaN                  37.746   \n",
       "1                 9.59             NaN           NaN                  37.746   \n",
       "2                 9.59             NaN           NaN                  37.746   \n",
       "3                 9.59             NaN           NaN                  37.746   \n",
       "4                 9.59             NaN           NaN                  37.746   \n",
       "\n",
       "  hospital_beds_per_thousand  life_expectancy  \n",
       "0                        0.5            64.83  \n",
       "1                        0.5            64.83  \n",
       "2                        0.5            64.83  \n",
       "3                        0.5            64.83  \n",
       "4                        0.5            64.83  \n",
       "\n",
       "[5 rows x 34 columns]"
      ]
     },
     "execution_count": 4,
     "metadata": {},
     "output_type": "execute_result"
    }
   ],
   "source": [
    "df = pd.read_csv('covid_data.csv')\n",
    "#print the first five rows of the dataframe\n",
    "df.head()"
   ]
  },
  {
   "cell_type": "markdown",
   "metadata": {},
   "source": [
    "# Data Organisation"
   ]
  },
  {
   "cell_type": "markdown",
   "metadata": {},
   "source": [
    "<font color = 'teal'> Data Organisation : This step of Data Science invloves creating sub folders to ensure the project is in well organised manner.</font>"
   ]
  },
  {
   "cell_type": "code",
   "execution_count": 5,
   "metadata": {},
   "outputs": [
    {
     "name": "stdout",
     "output_type": "stream",
     "text": [
      "C:\\Users\\user\\Springboard\\Course\\CapStone - 1\n"
     ]
    }
   ],
   "source": [
    "#printing the currect working folder\n",
    "print(os.getcwd())"
   ]
  },
  {
   "cell_type": "markdown",
   "metadata": {},
   "source": [
    "<font color = 'teal'>Creating sub-folders</font>"
   ]
  },
  {
   "cell_type": "code",
   "execution_count": 6,
   "metadata": {},
   "outputs": [],
   "source": [
    "#create sub-folders  named data\n",
    "os.mkdir('data')"
   ]
  },
  {
   "cell_type": "code",
   "execution_count": 7,
   "metadata": {},
   "outputs": [],
   "source": [
    "#create sub-folders  named data\n",
    "os.mkdir('models')"
   ]
  },
  {
   "cell_type": "code",
   "execution_count": 8,
   "metadata": {},
   "outputs": [],
   "source": [
    "#Create sub-folder named figures for saving the visualisation in the future steps\n",
    "os.mkdir('figures')"
   ]
  },
  {
   "cell_type": "code",
   "execution_count": 9,
   "metadata": {},
   "outputs": [
    {
     "data": {
      "text/plain": [
       "['.ipynb_checkpoints',\n",
       " 'Capstone Project - Data Wrangling .ipynb',\n",
       " 'Capstone Project - Exploratory Data Analysis.ipynb',\n",
       " 'covid_data.csv',\n",
       " 'data',\n",
       " 'figures',\n",
       " 'models',\n",
       " 'owid-covid-data-codebook.md.txt']"
      ]
     },
     "execution_count": 9,
     "metadata": {},
     "output_type": "execute_result"
    }
   ],
   "source": [
    "#Making sure the sub-folders are created\n",
    "os.listdir()"
   ]
  },
  {
   "cell_type": "markdown",
   "metadata": {},
   "source": [
    "# Data Definition"
   ]
  },
  {
   "cell_type": "markdown",
   "metadata": {},
   "source": [
    "<font color = 'teal'>Data Definition includes defining the data such as coloumn names, dtypes of the coloumn, description of the coloumn, count of unique values or codes and range of unique values or codes including NAN values</font>"
   ]
  },
  {
   "cell_type": "code",
   "execution_count": 10,
   "metadata": {},
   "outputs": [
    {
     "data": {
      "text/plain": [
       "Index(['iso_code', 'continent', 'location', 'date', 'total_cases', 'new_cases',\n",
       "       'total_deaths', 'new_deaths', 'total_cases_per_million',\n",
       "       'new_cases_per_million', 'total_deaths_per_million',\n",
       "       'new_deaths_per_million', 'total_tests', 'new_tests',\n",
       "       'total_tests_per_thousand', 'new_tests_per_thousand',\n",
       "       'new_tests_smoothed', 'new_tests_smoothed_per_thousand', 'tests_units',\n",
       "       'stringency_index', 'population', 'population_density', 'median_age',\n",
       "       'aged_65_older', 'aged_70_older', 'gdp_per_capita', 'extreme_poverty',\n",
       "       'cvd_death_rate', 'diabetes_prevalence', 'female_smokers',\n",
       "       'male_smokers', 'handwashing_facilities', 'hospital_beds_per_thousand',\n",
       "       'life_expectancy'],\n",
       "      dtype='object')"
      ]
     },
     "execution_count": 10,
     "metadata": {},
     "output_type": "execute_result"
    }
   ],
   "source": [
    "#priting the coloumns of the dataframe df\n",
    "df.columns"
   ]
  },
  {
   "cell_type": "markdown",
   "metadata": {},
   "source": [
    "<font color = 'teal'>Describing each column of the dataframe df</font>"
   ]
  },
  {
   "cell_type": "markdown",
   "metadata": {},
   "source": [
    "<font color = 'teal'>Codebook for the complete Our World in Data COVID-19 dataset</font>\n",
    "\n",
    "Column|Description|Source\n",
    "------|-----------|------\n",
    "`iso_code`|ISO 3166-1 alpha-3 – three-letter country codes|International Organization for Standardization\n",
    "`continent`|Continent of the geographical location|Our World in Data\n",
    "`location`|Geographical location|Our World in Data\n",
    "`date`|Date of observation|Our World in Data\n",
    "`total_cases`|Total confirmed cases of COVID-19|European Centre for Disease Prevention and Control\n",
    "`new_cases`|New confirmed cases of COVID-19|European Centre for Disease Prevention and Control\n",
    "`total_deaths`|Total deaths attributed to COVID-19|European Centre for Disease Prevention and Control\n",
    "`new_deaths`|New deaths attributed to COVID-19|European Centre for Disease Prevention and Control\n",
    "`total_cases_per_million`|Total confirmed cases of COVID-19 per 1,000,000 people|European Centre for Disease Prevention and Control\n",
    "`new_cases_per_million`|New confirmed cases of COVID-19 per 1,000,000 people|European Centre for Disease Prevention and Control\n",
    "`total_deaths_per_million`|Total deaths attributed to COVID-19 per 1,000,000 people|European Centre for Disease Prevention and Control\n",
    "`new_deaths_per_million`|New deaths attributed to COVID-19 per 1,000,000 people|European Centre for Disease Prevention and Control\n",
    "`total_tests`|Total tests for COVID-19|National government reports\n",
    "`new_tests`|New tests for COVID-19|National government reports\n",
    "`new_tests_smoothed`|New tests for COVID-19 (7-day smoothed). For countries that don't report testing data on a daily basis, we assume that testing changed equally on a daily basis over any periods in which no data was reported. This produces a complete series of daily figures, which is then averaged over a rolling 7-day window|National government reports\n",
    "`total_tests_per_thousand`|Total tests for COVID-19 per 1,000 people|National government reports\n",
    "`new_tests_per_thousand`|New tests for COVID-19 per 1,000 people|National government reports\n",
    "`new_tests_smoothed_per_thousand`|New tests for COVID-19 (7-day smoothed) per 1,000 people|National government reports\n",
    "`tests_units`|Units used by the location to report its testing data|National government reports\n",
    "`stringency_index`|Government Response Stringency Index: composite measure based on 9 response indicators including school closures, workplace closures, and travel bans, rescaled to a value from 0 to 100 (100 = strictest response)|Oxford COVID-19 Government Response Tracker, Blavatnik School of Government\n",
    "`population`|Population in 2020|United Nations, Department of Economic and Social Affairs, Population Division, World Population Prospects: The 2019 Revision\n",
    "`population_density`|Number of people divided by land area, measured in square kilometers, most recent year available|World Bank – World Development Indicators, sourced from Food and Agriculture Organization and World Bank estimates\n",
    "`median_age`|Median age of the population, UN projection for 2020|UN Population Division, World Population Prospects, 2017 Revision\n",
    "`aged_65_older`|Share of the population that is 65 years and older, most recent year available|World Bank – World Development Indicators, based on age/sex distributions of United Nations Population Division's World Population Prospects: 2017 Revision\n",
    "`aged_70_older`|Share of the population that is 70 years and older in 2015|United Nations, Department of Economic and Social Affairs, Population Division (2017), World Population Prospects: The 2017 Revision\n",
    "`gdp_per_capita`|Gross domestic product at purchasing power parity (constant 2011 international dollars), most recent year available|World Bank – World Development Indicators, source from World Bank, International Comparison Program database\n",
    "`extreme_poverty`|Share of the population living in extreme poverty, most recent year available since 2010|World Bank – World Development Indicators, sourced from World Bank Development Research Group\n",
    "`cvd_death_rate`|Death rate from cardiovascular disease in 2017|Global Burden of Disease Collaborative Network, Global Burden of Disease Study 2017 Results\n",
    "`diabetes_prevalence`|Diabetes prevalence (% of population aged 20 to 79) in 2017|World Bank – World Development Indicators, sourced from International Diabetes Federation, Diabetes Atlas\n",
    "`female_smokers`|Share of women who smoke, most recent year available|World Bank – World Development Indicators, sourced from World Health Organization, Global Health Observatory Data Repository\n",
    "`male_smokers`|Share of men who smoke, most recent year available|World Bank – World Development Indicators, sourced from World Health Organization, Global Health Observatory Data Repository\n",
    "`handwashing_facilities`|Share of the population with basic handwashing facilities on premises, most recent year available|United Nations Statistics Division\n",
    "`hospital_beds_per_thousand`|Hospital beds per 1,000 people, most recent year available since 2010|OECD, Eurostat, World Bank, national government records and other sources\n",
    "`life_expectancy`|Life expectancy at birth in 2019|James C. Riley, Clio Infra, United Nations Population Division\n",
    "\n"
   ]
  },
  {
   "cell_type": "code",
   "execution_count": 11,
   "metadata": {},
   "outputs": [
    {
     "data": {
      "text/plain": [
       "(28453, 34)"
      ]
     },
     "execution_count": 11,
     "metadata": {},
     "output_type": "execute_result"
    }
   ],
   "source": [
    "#printing the dimensions of the dataframe df\n",
    "df.shape"
   ]
  },
  {
   "cell_type": "code",
   "execution_count": 12,
   "metadata": {},
   "outputs": [
    {
     "data": {
      "text/plain": [
       "iso_code                            object\n",
       "continent                           object\n",
       "location                            object\n",
       "date                                object\n",
       "total_cases                        float64\n",
       "new_cases                          float64\n",
       "total_deaths                       float64\n",
       "new_deaths                         float64\n",
       "total_cases_per_million            float64\n",
       "new_cases_per_million              float64\n",
       "total_deaths_per_million           float64\n",
       "new_deaths_per_million             float64\n",
       "total_tests                        float64\n",
       "new_tests                          float64\n",
       "total_tests_per_thousand           float64\n",
       "new_tests_per_thousand             float64\n",
       "new_tests_smoothed                 float64\n",
       "new_tests_smoothed_per_thousand    float64\n",
       "tests_units                         object\n",
       "stringency_index                   float64\n",
       "population                         float64\n",
       "population_density                 float64\n",
       "median_age                         float64\n",
       "aged_65_older                      float64\n",
       "aged_70_older                      float64\n",
       "gdp_per_capita                     float64\n",
       "extreme_poverty                    float64\n",
       "cvd_death_rate                     float64\n",
       "diabetes_prevalence                float64\n",
       "female_smokers                     float64\n",
       "male_smokers                       float64\n",
       "handwashing_facilities             float64\n",
       "hospital_beds_per_thousand         float64\n",
       "life_expectancy                    float64\n",
       "dtype: object"
      ]
     },
     "execution_count": 12,
     "metadata": {},
     "output_type": "execute_result"
    }
   ],
   "source": [
    "#printing the dtypes of the dataframe df\n",
    "df.dtypes"
   ]
  },
  {
   "cell_type": "code",
   "execution_count": 13,
   "metadata": {},
   "outputs": [
    {
     "name": "stdout",
     "output_type": "stream",
     "text": [
      "<class 'pandas.core.frame.DataFrame'>\n",
      "RangeIndex: 28453 entries, 0 to 28452\n",
      "Data columns (total 34 columns):\n",
      " #   Column                           Non-Null Count  Dtype  \n",
      "---  ------                           --------------  -----  \n",
      " 0   iso_code                         28389 non-null  object \n",
      " 1   continent                        28200 non-null  object \n",
      " 2   location                         28453 non-null  object \n",
      " 3   date                             28453 non-null  object \n",
      " 4   total_cases                      28229 non-null  float64\n",
      " 5   new_cases                        28229 non-null  float64\n",
      " 6   total_deaths                     28229 non-null  float64\n",
      " 7   new_deaths                       28229 non-null  float64\n",
      " 8   total_cases_per_million          28165 non-null  float64\n",
      " 9   new_cases_per_million            28165 non-null  float64\n",
      " 10  total_deaths_per_million         28165 non-null  float64\n",
      " 11  new_deaths_per_million           28165 non-null  float64\n",
      " 12  total_tests                      8364 non-null   float64\n",
      " 13  new_tests                        7913 non-null   float64\n",
      " 14  total_tests_per_thousand         8364 non-null   float64\n",
      " 15  new_tests_per_thousand           7913 non-null   float64\n",
      " 16  new_tests_smoothed               8969 non-null   float64\n",
      " 17  new_tests_smoothed_per_thousand  8969 non-null   float64\n",
      " 18  tests_units                      9603 non-null   object \n",
      " 19  stringency_index                 22709 non-null  float64\n",
      " 20  population                       28389 non-null  float64\n",
      " 21  population_density               27200 non-null  float64\n",
      " 22  median_age                       25663 non-null  float64\n",
      " 23  aged_65_older                    25297 non-null  float64\n",
      " 24  aged_70_older                    25531 non-null  float64\n",
      " 25  gdp_per_capita                   25367 non-null  float64\n",
      " 26  extreme_poverty                  16954 non-null  float64\n",
      " 27  cvd_death_rate                   25693 non-null  float64\n",
      " 28  diabetes_prevalence              26533 non-null  float64\n",
      " 29  female_smokers                   20523 non-null  float64\n",
      " 30  male_smokers                     20283 non-null  float64\n",
      " 31  handwashing_facilities           11648 non-null  float64\n",
      " 32  hospital_beds_per_thousand       23447 non-null  float64\n",
      " 33  life_expectancy                  28056 non-null  float64\n",
      "dtypes: float64(29), object(5)\n",
      "memory usage: 7.4+ MB\n"
     ]
    }
   ],
   "source": [
    "#using info() to review the coloumn names, no of null values in all the columns and their dtypes\n",
    "df.info()"
   ]
  },
  {
   "cell_type": "markdown",
   "metadata": {},
   "source": [
    "<font color = 'teal'>Print the count of unique values in each column</font>"
   ]
  },
  {
   "cell_type": "code",
   "execution_count": 14,
   "metadata": {},
   "outputs": [
    {
     "data": {
      "text/plain": [
       "iso_code                             211\n",
       "continent                              6\n",
       "location                             212\n",
       "date                                 189\n",
       "total_cases                         8853\n",
       "new_cases                           2562\n",
       "total_deaths                        3055\n",
       "new_deaths                           729\n",
       "total_cases_per_million            16682\n",
       "new_cases_per_million               9289\n",
       "total_deaths_per_million            7922\n",
       "new_deaths_per_million              2190\n",
       "total_tests                         8059\n",
       "new_tests                           5415\n",
       "total_tests_per_thousand            6523\n",
       "new_tests_per_thousand              1775\n",
       "new_tests_smoothed                  6037\n",
       "new_tests_smoothed_per_thousand     1786\n",
       "tests_units                            5\n",
       "stringency_index                     157\n",
       "population                           211\n",
       "population_density                   200\n",
       "median_age                           133\n",
       "aged_65_older                        183\n",
       "aged_70_older                        182\n",
       "gdp_per_capita                       184\n",
       "extreme_poverty                       73\n",
       "cvd_death_rate                       186\n",
       "diabetes_prevalence                  141\n",
       "female_smokers                       107\n",
       "male_smokers                         122\n",
       "handwashing_facilities                92\n",
       "hospital_beds_per_thousand           100\n",
       "life_expectancy                      197\n",
       "dtype: int64"
      ]
     },
     "execution_count": 14,
     "metadata": {},
     "output_type": "execute_result"
    }
   ],
   "source": [
    "df.nunique()"
   ]
  },
  {
   "cell_type": "markdown",
   "metadata": {},
   "source": [
    "<font color = 'teal'>Printing the range of values in each column</font>"
   ]
  },
  {
   "cell_type": "code",
   "execution_count": 15,
   "metadata": {},
   "outputs": [
    {
     "name": "stdout",
     "output_type": "stream",
     "text": [
      "column_name:  date min:  2019-12-31 max:  2020-07-06\n",
      "column_name:  total_cases min:  0.0 max:  11418475.0\n",
      "column_name:  new_cases min:  -29726.0 max:  206544.0\n",
      "column_name:  total_deaths min:  0.0 max:  533958.0\n",
      "column_name:  new_deaths min:  -1918.0 max:  10489.0\n",
      "column_name:  total_cases_per_million min:  0.0 max:  34639.681000000004\n",
      "column_name:  new_cases_per_million min:  -437.881 max:  4944.376\n",
      "column_name:  total_deaths_per_million min:  0.0 max:  1237.5510000000002\n",
      "column_name:  new_deaths_per_million min:  -41.023 max:  200.04\n",
      "column_name:  total_tests min:  nan max:  nan\n",
      "column_name:  new_tests min:  nan max:  nan\n",
      "column_name:  total_tests_per_thousand min:  nan max:  nan\n",
      "column_name:  new_tests_per_thousand min:  nan max:  nan\n",
      "column_name:  new_tests_smoothed min:  nan max:  nan\n",
      "column_name:  new_tests_smoothed_per_thousand min:  nan max:  nan\n",
      "column_name:  stringency_index min:  nan max:  nan\n",
      "column_name:  population min:  809.0 max:  7794798729.0\n",
      "column_name:  population_density min:  0.13699999999999998 max:  19347.5\n",
      "column_name:  median_age min:  15.1 max:  48.2\n",
      "column_name:  aged_65_older min:  1.1440000000000001 max:  27.049\n",
      "column_name:  aged_70_older min:  0.526 max:  18.493\n",
      "column_name:  gdp_per_capita min:  661.24 max:  116935.6\n",
      "column_name:  extreme_poverty min:  nan max:  nan\n",
      "column_name:  cvd_death_rate min:  79.37 max:  724.4169999999999\n",
      "column_name:  diabetes_prevalence min:  0.99 max:  23.36\n",
      "column_name:  female_smokers min:  nan max:  nan\n",
      "column_name:  male_smokers min:  nan max:  nan\n",
      "column_name:  handwashing_facilities min:  1.188 max:  98.999\n",
      "column_name:  hospital_beds_per_thousand min:  0.1 max:  13.8\n",
      "column_name:  life_expectancy min:  53.28 max:  86.75\n"
     ]
    }
   ],
   "source": [
    "#iterate over the columns of the dataframe by dropping the columns whose dtypes are object\n",
    "#print the range for all the columns\n",
    "for col in df.drop(columns=['iso_code','continent','location','tests_units']).columns:\n",
    "    print('column_name: ',col,'min: ',min(df[col]),'max: ',max(df[col]))"
   ]
  },
  {
   "cell_type": "code",
   "execution_count": 16,
   "metadata": {},
   "outputs": [
    {
     "data": {
      "text/plain": [
       "Estonia           189\n",
       "Germany           189\n",
       "Croatia           189\n",
       "United States     189\n",
       "Czech Republic    189\n",
       "                 ... \n",
       "Tajikistan         67\n",
       "Comoros            66\n",
       "International      64\n",
       "Lesotho            53\n",
       "Hong Kong           6\n",
       "Name: location, Length: 212, dtype: int64"
      ]
     },
     "execution_count": 16,
     "metadata": {},
     "output_type": "execute_result"
    }
   ],
   "source": [
    "#to know how many countries are there in the dataframe df\n",
    "df['location'].value_counts()"
   ]
  },
  {
   "cell_type": "code",
   "execution_count": 17,
   "metadata": {},
   "outputs": [
    {
     "data": {
      "text/html": [
       "<div>\n",
       "<style scoped>\n",
       "    .dataframe tbody tr th:only-of-type {\n",
       "        vertical-align: middle;\n",
       "    }\n",
       "\n",
       "    .dataframe tbody tr th {\n",
       "        vertical-align: top;\n",
       "    }\n",
       "\n",
       "    .dataframe thead th {\n",
       "        text-align: right;\n",
       "    }\n",
       "</style>\n",
       "<table border=\"1\" class=\"dataframe\">\n",
       "  <thead>\n",
       "    <tr style=\"text-align: right;\">\n",
       "      <th></th>\n",
       "      <th>total_cases</th>\n",
       "      <th>new_cases</th>\n",
       "      <th>total_deaths</th>\n",
       "      <th>new_deaths</th>\n",
       "      <th>total_cases_per_million</th>\n",
       "      <th>new_cases_per_million</th>\n",
       "      <th>total_deaths_per_million</th>\n",
       "      <th>new_deaths_per_million</th>\n",
       "      <th>total_tests</th>\n",
       "      <th>new_tests</th>\n",
       "      <th>...</th>\n",
       "      <th>aged_70_older</th>\n",
       "      <th>gdp_per_capita</th>\n",
       "      <th>extreme_poverty</th>\n",
       "      <th>cvd_death_rate</th>\n",
       "      <th>diabetes_prevalence</th>\n",
       "      <th>female_smokers</th>\n",
       "      <th>male_smokers</th>\n",
       "      <th>handwashing_facilities</th>\n",
       "      <th>hospital_beds_per_thousand</th>\n",
       "      <th>life_expectancy</th>\n",
       "    </tr>\n",
       "  </thead>\n",
       "  <tbody>\n",
       "    <tr>\n",
       "      <th>count</th>\n",
       "      <td>2.822900e+04</td>\n",
       "      <td>28229.000000</td>\n",
       "      <td>28229.000000</td>\n",
       "      <td>28229.000000</td>\n",
       "      <td>28165.000000</td>\n",
       "      <td>28165.000000</td>\n",
       "      <td>28165.000000</td>\n",
       "      <td>28165.000000</td>\n",
       "      <td>8.364000e+03</td>\n",
       "      <td>7913.000000</td>\n",
       "      <td>...</td>\n",
       "      <td>25531.000000</td>\n",
       "      <td>25367.000000</td>\n",
       "      <td>16954.000000</td>\n",
       "      <td>25693.000000</td>\n",
       "      <td>26533.000000</td>\n",
       "      <td>20523.000000</td>\n",
       "      <td>20283.000000</td>\n",
       "      <td>11648.000000</td>\n",
       "      <td>23447.000000</td>\n",
       "      <td>28056.000000</td>\n",
       "    </tr>\n",
       "    <tr>\n",
       "      <th>mean</th>\n",
       "      <td>3.670309e+04</td>\n",
       "      <td>808.988983</td>\n",
       "      <td>2137.064862</td>\n",
       "      <td>37.830458</td>\n",
       "      <td>869.470582</td>\n",
       "      <td>15.869190</td>\n",
       "      <td>34.725793</td>\n",
       "      <td>0.526872</td>\n",
       "      <td>5.726651e+05</td>\n",
       "      <td>14633.983192</td>\n",
       "      <td>...</td>\n",
       "      <td>6.060347</td>\n",
       "      <td>21893.995983</td>\n",
       "      <td>11.168078</td>\n",
       "      <td>248.310427</td>\n",
       "      <td>8.022825</td>\n",
       "      <td>11.065562</td>\n",
       "      <td>32.640675</td>\n",
       "      <td>53.765046</td>\n",
       "      <td>3.167697</td>\n",
       "      <td>74.367508</td>\n",
       "    </tr>\n",
       "    <tr>\n",
       "      <th>std</th>\n",
       "      <td>3.684081e+05</td>\n",
       "      <td>7222.766307</td>\n",
       "      <td>20736.226298</td>\n",
       "      <td>335.993586</td>\n",
       "      <td>2225.488824</td>\n",
       "      <td>62.725027</td>\n",
       "      <td>115.156579</td>\n",
       "      <td>3.048522</td>\n",
       "      <td>2.210630e+06</td>\n",
       "      <td>51099.470008</td>\n",
       "      <td>...</td>\n",
       "      <td>4.388630</td>\n",
       "      <td>20857.361669</td>\n",
       "      <td>18.464883</td>\n",
       "      <td>118.227077</td>\n",
       "      <td>4.094329</td>\n",
       "      <td>10.535419</td>\n",
       "      <td>13.331712</td>\n",
       "      <td>31.336222</td>\n",
       "      <td>2.568689</td>\n",
       "      <td>7.276985</td>\n",
       "    </tr>\n",
       "    <tr>\n",
       "      <th>min</th>\n",
       "      <td>0.000000e+00</td>\n",
       "      <td>-29726.000000</td>\n",
       "      <td>0.000000</td>\n",
       "      <td>-1918.000000</td>\n",
       "      <td>0.000000</td>\n",
       "      <td>-437.881000</td>\n",
       "      <td>0.000000</td>\n",
       "      <td>-41.023000</td>\n",
       "      <td>1.000000e+00</td>\n",
       "      <td>-3743.000000</td>\n",
       "      <td>...</td>\n",
       "      <td>0.526000</td>\n",
       "      <td>661.240000</td>\n",
       "      <td>0.100000</td>\n",
       "      <td>79.370000</td>\n",
       "      <td>0.990000</td>\n",
       "      <td>0.100000</td>\n",
       "      <td>7.700000</td>\n",
       "      <td>1.188000</td>\n",
       "      <td>0.100000</td>\n",
       "      <td>53.280000</td>\n",
       "    </tr>\n",
       "    <tr>\n",
       "      <th>25%</th>\n",
       "      <td>1.600000e+01</td>\n",
       "      <td>0.000000</td>\n",
       "      <td>0.000000</td>\n",
       "      <td>0.000000</td>\n",
       "      <td>4.257000</td>\n",
       "      <td>0.000000</td>\n",
       "      <td>0.000000</td>\n",
       "      <td>0.000000</td>\n",
       "      <td>2.137025e+04</td>\n",
       "      <td>823.000000</td>\n",
       "      <td>...</td>\n",
       "      <td>2.171000</td>\n",
       "      <td>6171.884000</td>\n",
       "      <td>0.500000</td>\n",
       "      <td>152.783000</td>\n",
       "      <td>5.310000</td>\n",
       "      <td>1.900000</td>\n",
       "      <td>21.400000</td>\n",
       "      <td>23.437000</td>\n",
       "      <td>1.380000</td>\n",
       "      <td>70.600000</td>\n",
       "    </tr>\n",
       "    <tr>\n",
       "      <th>50%</th>\n",
       "      <td>2.920000e+02</td>\n",
       "      <td>4.000000</td>\n",
       "      <td>6.000000</td>\n",
       "      <td>0.000000</td>\n",
       "      <td>98.602000</td>\n",
       "      <td>0.553000</td>\n",
       "      <td>1.087000</td>\n",
       "      <td>0.000000</td>\n",
       "      <td>9.031800e+04</td>\n",
       "      <td>2680.000000</td>\n",
       "      <td>...</td>\n",
       "      <td>4.593000</td>\n",
       "      <td>15308.712000</td>\n",
       "      <td>1.700000</td>\n",
       "      <td>235.848000</td>\n",
       "      <td>7.110000</td>\n",
       "      <td>6.900000</td>\n",
       "      <td>31.400000</td>\n",
       "      <td>59.550000</td>\n",
       "      <td>2.540000</td>\n",
       "      <td>75.880000</td>\n",
       "    </tr>\n",
       "    <tr>\n",
       "      <th>75%</th>\n",
       "      <td>3.190000e+03</td>\n",
       "      <td>76.000000</td>\n",
       "      <td>73.000000</td>\n",
       "      <td>2.000000</td>\n",
       "      <td>632.045000</td>\n",
       "      <td>8.774000</td>\n",
       "      <td>14.725000</td>\n",
       "      <td>0.109000</td>\n",
       "      <td>3.432792e+05</td>\n",
       "      <td>8435.000000</td>\n",
       "      <td>...</td>\n",
       "      <td>9.732000</td>\n",
       "      <td>34272.360000</td>\n",
       "      <td>14.800000</td>\n",
       "      <td>317.840000</td>\n",
       "      <td>10.080000</td>\n",
       "      <td>19.800000</td>\n",
       "      <td>40.900000</td>\n",
       "      <td>83.841000</td>\n",
       "      <td>4.210000</td>\n",
       "      <td>80.180000</td>\n",
       "    </tr>\n",
       "    <tr>\n",
       "      <th>max</th>\n",
       "      <td>1.141848e+07</td>\n",
       "      <td>206544.000000</td>\n",
       "      <td>533958.000000</td>\n",
       "      <td>10489.000000</td>\n",
       "      <td>34639.681000</td>\n",
       "      <td>4944.376000</td>\n",
       "      <td>1237.551000</td>\n",
       "      <td>200.040000</td>\n",
       "      <td>3.485843e+07</td>\n",
       "      <td>721054.000000</td>\n",
       "      <td>...</td>\n",
       "      <td>18.493000</td>\n",
       "      <td>116935.600000</td>\n",
       "      <td>77.600000</td>\n",
       "      <td>724.417000</td>\n",
       "      <td>23.360000</td>\n",
       "      <td>44.000000</td>\n",
       "      <td>78.100000</td>\n",
       "      <td>98.999000</td>\n",
       "      <td>13.800000</td>\n",
       "      <td>86.750000</td>\n",
       "    </tr>\n",
       "  </tbody>\n",
       "</table>\n",
       "<p>8 rows × 29 columns</p>\n",
       "</div>"
      ],
      "text/plain": [
       "        total_cases      new_cases   total_deaths    new_deaths  \\\n",
       "count  2.822900e+04   28229.000000   28229.000000  28229.000000   \n",
       "mean   3.670309e+04     808.988983    2137.064862     37.830458   \n",
       "std    3.684081e+05    7222.766307   20736.226298    335.993586   \n",
       "min    0.000000e+00  -29726.000000       0.000000  -1918.000000   \n",
       "25%    1.600000e+01       0.000000       0.000000      0.000000   \n",
       "50%    2.920000e+02       4.000000       6.000000      0.000000   \n",
       "75%    3.190000e+03      76.000000      73.000000      2.000000   \n",
       "max    1.141848e+07  206544.000000  533958.000000  10489.000000   \n",
       "\n",
       "       total_cases_per_million  new_cases_per_million  \\\n",
       "count             28165.000000           28165.000000   \n",
       "mean                869.470582              15.869190   \n",
       "std                2225.488824              62.725027   \n",
       "min                   0.000000            -437.881000   \n",
       "25%                   4.257000               0.000000   \n",
       "50%                  98.602000               0.553000   \n",
       "75%                 632.045000               8.774000   \n",
       "max               34639.681000            4944.376000   \n",
       "\n",
       "       total_deaths_per_million  new_deaths_per_million   total_tests  \\\n",
       "count              28165.000000            28165.000000  8.364000e+03   \n",
       "mean                  34.725793                0.526872  5.726651e+05   \n",
       "std                  115.156579                3.048522  2.210630e+06   \n",
       "min                    0.000000              -41.023000  1.000000e+00   \n",
       "25%                    0.000000                0.000000  2.137025e+04   \n",
       "50%                    1.087000                0.000000  9.031800e+04   \n",
       "75%                   14.725000                0.109000  3.432792e+05   \n",
       "max                 1237.551000              200.040000  3.485843e+07   \n",
       "\n",
       "           new_tests  ...  aged_70_older  gdp_per_capita  extreme_poverty  \\\n",
       "count    7913.000000  ...   25531.000000    25367.000000     16954.000000   \n",
       "mean    14633.983192  ...       6.060347    21893.995983        11.168078   \n",
       "std     51099.470008  ...       4.388630    20857.361669        18.464883   \n",
       "min     -3743.000000  ...       0.526000      661.240000         0.100000   \n",
       "25%       823.000000  ...       2.171000     6171.884000         0.500000   \n",
       "50%      2680.000000  ...       4.593000    15308.712000         1.700000   \n",
       "75%      8435.000000  ...       9.732000    34272.360000        14.800000   \n",
       "max    721054.000000  ...      18.493000   116935.600000        77.600000   \n",
       "\n",
       "       cvd_death_rate  diabetes_prevalence  female_smokers  male_smokers  \\\n",
       "count    25693.000000         26533.000000    20523.000000  20283.000000   \n",
       "mean       248.310427             8.022825       11.065562     32.640675   \n",
       "std        118.227077             4.094329       10.535419     13.331712   \n",
       "min         79.370000             0.990000        0.100000      7.700000   \n",
       "25%        152.783000             5.310000        1.900000     21.400000   \n",
       "50%        235.848000             7.110000        6.900000     31.400000   \n",
       "75%        317.840000            10.080000       19.800000     40.900000   \n",
       "max        724.417000            23.360000       44.000000     78.100000   \n",
       "\n",
       "       handwashing_facilities  hospital_beds_per_thousand  life_expectancy  \n",
       "count            11648.000000                23447.000000     28056.000000  \n",
       "mean                53.765046                    3.167697        74.367508  \n",
       "std                 31.336222                    2.568689         7.276985  \n",
       "min                  1.188000                    0.100000        53.280000  \n",
       "25%                 23.437000                    1.380000        70.600000  \n",
       "50%                 59.550000                    2.540000        75.880000  \n",
       "75%                 83.841000                    4.210000        80.180000  \n",
       "max                 98.999000                   13.800000        86.750000  \n",
       "\n",
       "[8 rows x 29 columns]"
      ]
     },
     "execution_count": 17,
     "metadata": {},
     "output_type": "execute_result"
    }
   ],
   "source": [
    "#use describe() to get the summary statistics\n",
    "df.describe()"
   ]
  },
  {
   "cell_type": "markdown",
   "metadata": {},
   "source": [
    "# Data Cleaning"
   ]
  },
  {
   "cell_type": "markdown",
   "metadata": {},
   "source": [
    "<font color = 'teal'>Data cleaning is the process of handling misseing values(NAN) and look into duplicate rows</font>"
   ]
  },
  {
   "cell_type": "markdown",
   "metadata": {},
   "source": [
    "<font color = 'teal'>Handling missing values</font>"
   ]
  },
  {
   "cell_type": "code",
   "execution_count": 18,
   "metadata": {},
   "outputs": [
    {
     "data": {
      "text/html": [
       "<div>\n",
       "<style scoped>\n",
       "    .dataframe tbody tr th:only-of-type {\n",
       "        vertical-align: middle;\n",
       "    }\n",
       "\n",
       "    .dataframe tbody tr th {\n",
       "        vertical-align: top;\n",
       "    }\n",
       "\n",
       "    .dataframe thead th {\n",
       "        text-align: right;\n",
       "    }\n",
       "</style>\n",
       "<table border=\"1\" class=\"dataframe\">\n",
       "  <thead>\n",
       "    <tr style=\"text-align: right;\">\n",
       "      <th></th>\n",
       "      <th>Percent</th>\n",
       "    </tr>\n",
       "  </thead>\n",
       "  <tbody>\n",
       "    <tr>\n",
       "      <th>new_tests</th>\n",
       "      <td>0.721892</td>\n",
       "    </tr>\n",
       "    <tr>\n",
       "      <th>new_tests_per_thousand</th>\n",
       "      <td>0.721892</td>\n",
       "    </tr>\n",
       "    <tr>\n",
       "      <th>total_tests_per_thousand</th>\n",
       "      <td>0.706042</td>\n",
       "    </tr>\n",
       "    <tr>\n",
       "      <th>total_tests</th>\n",
       "      <td>0.706042</td>\n",
       "    </tr>\n",
       "    <tr>\n",
       "      <th>new_tests_smoothed_per_thousand</th>\n",
       "      <td>0.684778</td>\n",
       "    </tr>\n",
       "    <tr>\n",
       "      <th>new_tests_smoothed</th>\n",
       "      <td>0.684778</td>\n",
       "    </tr>\n",
       "    <tr>\n",
       "      <th>tests_units</th>\n",
       "      <td>0.662496</td>\n",
       "    </tr>\n",
       "    <tr>\n",
       "      <th>handwashing_facilities</th>\n",
       "      <td>0.590623</td>\n",
       "    </tr>\n",
       "    <tr>\n",
       "      <th>extreme_poverty</th>\n",
       "      <td>0.404140</td>\n",
       "    </tr>\n",
       "    <tr>\n",
       "      <th>male_smokers</th>\n",
       "      <td>0.287140</td>\n",
       "    </tr>\n",
       "    <tr>\n",
       "      <th>female_smokers</th>\n",
       "      <td>0.278705</td>\n",
       "    </tr>\n",
       "    <tr>\n",
       "      <th>stringency_index</th>\n",
       "      <td>0.201877</td>\n",
       "    </tr>\n",
       "    <tr>\n",
       "      <th>hospital_beds_per_thousand</th>\n",
       "      <td>0.175939</td>\n",
       "    </tr>\n",
       "    <tr>\n",
       "      <th>aged_65_older</th>\n",
       "      <td>0.110920</td>\n",
       "    </tr>\n",
       "    <tr>\n",
       "      <th>gdp_per_capita</th>\n",
       "      <td>0.108460</td>\n",
       "    </tr>\n",
       "    <tr>\n",
       "      <th>aged_70_older</th>\n",
       "      <td>0.102696</td>\n",
       "    </tr>\n",
       "    <tr>\n",
       "      <th>median_age</th>\n",
       "      <td>0.098056</td>\n",
       "    </tr>\n",
       "    <tr>\n",
       "      <th>cvd_death_rate</th>\n",
       "      <td>0.097002</td>\n",
       "    </tr>\n",
       "    <tr>\n",
       "      <th>diabetes_prevalence</th>\n",
       "      <td>0.067480</td>\n",
       "    </tr>\n",
       "    <tr>\n",
       "      <th>population_density</th>\n",
       "      <td>0.044038</td>\n",
       "    </tr>\n",
       "    <tr>\n",
       "      <th>life_expectancy</th>\n",
       "      <td>0.013953</td>\n",
       "    </tr>\n",
       "    <tr>\n",
       "      <th>new_deaths_per_million</th>\n",
       "      <td>0.010122</td>\n",
       "    </tr>\n",
       "    <tr>\n",
       "      <th>total_deaths_per_million</th>\n",
       "      <td>0.010122</td>\n",
       "    </tr>\n",
       "    <tr>\n",
       "      <th>new_cases_per_million</th>\n",
       "      <td>0.010122</td>\n",
       "    </tr>\n",
       "    <tr>\n",
       "      <th>total_cases_per_million</th>\n",
       "      <td>0.010122</td>\n",
       "    </tr>\n",
       "    <tr>\n",
       "      <th>continent</th>\n",
       "      <td>0.008892</td>\n",
       "    </tr>\n",
       "    <tr>\n",
       "      <th>new_deaths</th>\n",
       "      <td>0.007873</td>\n",
       "    </tr>\n",
       "    <tr>\n",
       "      <th>total_deaths</th>\n",
       "      <td>0.007873</td>\n",
       "    </tr>\n",
       "    <tr>\n",
       "      <th>new_cases</th>\n",
       "      <td>0.007873</td>\n",
       "    </tr>\n",
       "    <tr>\n",
       "      <th>total_cases</th>\n",
       "      <td>0.007873</td>\n",
       "    </tr>\n",
       "    <tr>\n",
       "      <th>population</th>\n",
       "      <td>0.002249</td>\n",
       "    </tr>\n",
       "    <tr>\n",
       "      <th>iso_code</th>\n",
       "      <td>0.002249</td>\n",
       "    </tr>\n",
       "  </tbody>\n",
       "</table>\n",
       "</div>"
      ],
      "text/plain": [
       "                                  Percent\n",
       "new_tests                        0.721892\n",
       "new_tests_per_thousand           0.721892\n",
       "total_tests_per_thousand         0.706042\n",
       "total_tests                      0.706042\n",
       "new_tests_smoothed_per_thousand  0.684778\n",
       "new_tests_smoothed               0.684778\n",
       "tests_units                      0.662496\n",
       "handwashing_facilities           0.590623\n",
       "extreme_poverty                  0.404140\n",
       "male_smokers                     0.287140\n",
       "female_smokers                   0.278705\n",
       "stringency_index                 0.201877\n",
       "hospital_beds_per_thousand       0.175939\n",
       "aged_65_older                    0.110920\n",
       "gdp_per_capita                   0.108460\n",
       "aged_70_older                    0.102696\n",
       "median_age                       0.098056\n",
       "cvd_death_rate                   0.097002\n",
       "diabetes_prevalence              0.067480\n",
       "population_density               0.044038\n",
       "life_expectancy                  0.013953\n",
       "new_deaths_per_million           0.010122\n",
       "total_deaths_per_million         0.010122\n",
       "new_cases_per_million            0.010122\n",
       "total_cases_per_million          0.010122\n",
       "continent                        0.008892\n",
       "new_deaths                       0.007873\n",
       "total_deaths                     0.007873\n",
       "new_cases                        0.007873\n",
       "total_cases                      0.007873\n",
       "population                       0.002249\n",
       "iso_code                         0.002249"
      ]
     },
     "execution_count": 18,
     "metadata": {},
     "output_type": "execute_result"
    }
   ],
   "source": [
    "nan = pd.DataFrame(df.isnull().sum().sort_values(ascending=False)/len(df),columns = ['Percent'])\n",
    "nan_greaterthan_0 = nan['Percent'] > 0 \n",
    "nan[nan_greaterthan_0]"
   ]
  },
  {
   "cell_type": "code",
   "execution_count": 19,
   "metadata": {},
   "outputs": [],
   "source": [
    "df.drop(df[(df['location']=='International') | (df['location']=='World')].index,inplace = True)"
   ]
  },
  {
   "cell_type": "code",
   "execution_count": 20,
   "metadata": {},
   "outputs": [
    {
     "name": "stderr",
     "output_type": "stream",
     "text": [
      "C:\\Users\\user\\anaconda3\\lib\\site-packages\\pandas\\core\\frame.py:4153: SettingWithCopyWarning: \n",
      "A value is trying to be set on a copy of a slice from a DataFrame\n",
      "\n",
      "See the caveats in the documentation: https://pandas.pydata.org/pandas-docs/stable/user_guide/indexing.html#returning-a-view-versus-a-copy\n",
      "  downcast=downcast,\n"
     ]
    }
   ],
   "source": [
    "# using fillna() forward fill method replacing the nan values in the column stringency_index\n",
    "df[\"stringency_index\"].fillna( method ='ffill', inplace = True) \n",
    "df[:1].fillna(0, inplace=True)"
   ]
  },
  {
   "cell_type": "code",
   "execution_count": 21,
   "metadata": {},
   "outputs": [],
   "source": [
    "#using fillna(), filling the nan values of 'extreme_poverty' by the  column mean and using groupby location\n",
    "df['extreme_poverty'] = df.groupby(['location'])['extreme_poverty'].fillna(df.extreme_poverty.mean())"
   ]
  },
  {
   "cell_type": "code",
   "execution_count": 22,
   "metadata": {},
   "outputs": [],
   "source": [
    "#using fillna(), filling the nan values of 'population_density' by the column mean and using groupby location\n",
    "df['population_density'] = df.groupby(['location'])['population_density'].fillna(df.population.mean())"
   ]
  },
  {
   "cell_type": "code",
   "execution_count": 23,
   "metadata": {},
   "outputs": [],
   "source": [
    "#using fillna(), filling the nan values of 'median_age' by the  column mean and using groupby location\n",
    "df['median_age'] = df.groupby(['location'])['median_age'].fillna(df.median_age.mean())"
   ]
  },
  {
   "cell_type": "code",
   "execution_count": 24,
   "metadata": {},
   "outputs": [],
   "source": [
    "#using fillna(), filling the nan values of 'aged_65_older' by the  column mean and using groupby location\n",
    "df['aged_65_older'] = df.groupby(['location'])['aged_65_older'].fillna(df.aged_65_older.mean())"
   ]
  },
  {
   "cell_type": "code",
   "execution_count": 25,
   "metadata": {},
   "outputs": [],
   "source": [
    "#using fillna(), filling the nan values of 'aged_70_older' by the  column mean and using groupby location\n",
    "df['aged_70_older'] = df.groupby(['location'])['aged_70_older'].fillna(df.aged_65_older.mean())"
   ]
  },
  {
   "cell_type": "code",
   "execution_count": 26,
   "metadata": {},
   "outputs": [],
   "source": [
    "#using fillna(), filling the nan values of 'gdp_per_capita' by the  column mean and using groupby location\n",
    "df['gdp_per_capita'] = df.groupby(['location'])['gdp_per_capita'].fillna(df.gdp_per_capita.mean())"
   ]
  },
  {
   "cell_type": "code",
   "execution_count": 27,
   "metadata": {},
   "outputs": [],
   "source": [
    "#using fillna(), filling the nan values of 'diabetes_prevalence' by the  column mean and using groupby location\n",
    "df['diabetes_prevalence'] = df.groupby(['location'])['diabetes_prevalence'].fillna(df.diabetes_prevalence.mean())"
   ]
  },
  {
   "cell_type": "code",
   "execution_count": 28,
   "metadata": {},
   "outputs": [],
   "source": [
    "#using fillna(), filling the nan values of 'cvd_death_rate' by the  column mean and using groupby location\n",
    "df['cvd_death_rate'] = df.groupby(['location'])['cvd_death_rate'].fillna(df.cvd_death_rate.mean())"
   ]
  },
  {
   "cell_type": "code",
   "execution_count": 29,
   "metadata": {},
   "outputs": [],
   "source": [
    "#using fillna(), filling the nan values of 'female_smokers' by the  column mean and using groupby location\n",
    "df['female_smokers'] = df.groupby(['location'])['female_smokers'].fillna(0)"
   ]
  },
  {
   "cell_type": "code",
   "execution_count": 30,
   "metadata": {},
   "outputs": [],
   "source": [
    "#using fillna(), filling the nan values of 'male_smokers' by the  column mean and using groupby location\n",
    "df['male_smokers'] = df.groupby(['location'])['male_smokers'].fillna(0)"
   ]
  },
  {
   "cell_type": "code",
   "execution_count": 31,
   "metadata": {},
   "outputs": [],
   "source": [
    "#using fillna(), filling the nan values of 'life_expectancy' by the  column mean and using groupby location\n",
    "df['life_expectancy'] = df.groupby(['location'])['life_expectancy'].fillna(df.life_expectancy.mean())"
   ]
  },
  {
   "cell_type": "code",
   "execution_count": 32,
   "metadata": {},
   "outputs": [],
   "source": [
    "df['hospital_beds_per_thousand'] = df.groupby(['location'])['hospital_beds_per_thousand'].fillna(0)"
   ]
  },
  {
   "cell_type": "code",
   "execution_count": 33,
   "metadata": {},
   "outputs": [],
   "source": [
    "df['total_cases'] = df.groupby(['location'])['total_cases'].fillna(method = 'bfill')\n",
    "df['total_cases'] = df.groupby(['location'])['total_cases'].fillna(0)"
   ]
  },
  {
   "cell_type": "code",
   "execution_count": 34,
   "metadata": {},
   "outputs": [],
   "source": [
    "df['new_cases'] = df.groupby(['location'])['new_cases'].fillna(0)"
   ]
  },
  {
   "cell_type": "code",
   "execution_count": 35,
   "metadata": {},
   "outputs": [],
   "source": [
    "df['total_deaths'] = df.groupby(['location'])['total_deaths'].fillna(method = 'bfill')\n",
    "df['total_deaths'] = df.groupby(['location'])['total_deaths'].fillna(0)"
   ]
  },
  {
   "cell_type": "code",
   "execution_count": 36,
   "metadata": {},
   "outputs": [],
   "source": [
    "df['new_deaths'] = df.groupby(['location'])['new_deaths'].fillna(0)"
   ]
  },
  {
   "cell_type": "code",
   "execution_count": 37,
   "metadata": {},
   "outputs": [],
   "source": [
    "df['total_cases_per_million'] = df.groupby(['location'])['total_cases_per_million'].fillna(method = 'bfill')\n",
    "df['total_cases_per_million'] = df.groupby(['location'])['total_cases_per_million'].fillna(0)"
   ]
  },
  {
   "cell_type": "code",
   "execution_count": 38,
   "metadata": {},
   "outputs": [],
   "source": [
    "df['new_cases_per_million'] = df.groupby(['location'])['new_cases_per_million'].fillna(0)"
   ]
  },
  {
   "cell_type": "code",
   "execution_count": 39,
   "metadata": {},
   "outputs": [],
   "source": [
    "df['total_deaths_per_million'] = df.groupby(['location'])['total_deaths_per_million'].fillna(method = 'bfill')\n",
    "df['total_deaths_per_million'] = df.groupby(['location'])['total_deaths_per_million'].fillna(0)"
   ]
  },
  {
   "cell_type": "code",
   "execution_count": 40,
   "metadata": {},
   "outputs": [],
   "source": [
    "df['handwashing_facilities'] = df.groupby(['location'])['handwashing_facilities'].fillna(method = 'bfill')\n",
    "df['handwashing_facilities'] = df.groupby(['location'])['handwashing_facilities'].fillna(0)"
   ]
  },
  {
   "cell_type": "code",
   "execution_count": 41,
   "metadata": {},
   "outputs": [],
   "source": [
    "df['new_deaths_per_million'] = df.groupby(['location'])['new_deaths_per_million'].fillna(0)"
   ]
  },
  {
   "cell_type": "code",
   "execution_count": 42,
   "metadata": {},
   "outputs": [],
   "source": [
    "df['total_tests']=df['total_tests'].interpolate()"
   ]
  },
  {
   "cell_type": "code",
   "execution_count": 43,
   "metadata": {},
   "outputs": [],
   "source": [
    "df['new_tests']=df['new_tests'].interpolate()"
   ]
  },
  {
   "cell_type": "code",
   "execution_count": 44,
   "metadata": {},
   "outputs": [],
   "source": [
    "df['total_tests_per_thousand']=df['total_tests_per_thousand'].interpolate()"
   ]
  },
  {
   "cell_type": "code",
   "execution_count": 45,
   "metadata": {},
   "outputs": [],
   "source": [
    "df['new_tests_per_thousand']=df['new_tests_per_thousand'].interpolate()"
   ]
  },
  {
   "cell_type": "code",
   "execution_count": 46,
   "metadata": {},
   "outputs": [],
   "source": [
    "df['new_tests_smoothed']=df['new_tests_smoothed'].interpolate()"
   ]
  },
  {
   "cell_type": "code",
   "execution_count": 47,
   "metadata": {},
   "outputs": [],
   "source": [
    "df['new_tests_smoothed_per_thousand']=df['new_tests_smoothed_per_thousand'].interpolate()"
   ]
  },
  {
   "cell_type": "code",
   "execution_count": 48,
   "metadata": {},
   "outputs": [],
   "source": [
    "#df['tests_units'] = df.groupby(['location'])['tests_units'].fillna(df.tests_units.mean())\n",
    "#df['tests_units'] = df.groupby(['location'])['tests_units'].fillna(method = 'ffill')\n",
    "df['tests_units']=df['tests_units'].fillna(0)"
   ]
  },
  {
   "cell_type": "code",
   "execution_count": 49,
   "metadata": {},
   "outputs": [
    {
     "data": {
      "text/plain": [
       "array([0, 'tests performed', 'units unclear', 'samples tested',\n",
       "       'people tested', 'units unclear (incl. non-PCR)'], dtype=object)"
      ]
     },
     "execution_count": 49,
     "metadata": {},
     "output_type": "execute_result"
    }
   ],
   "source": [
    "df['tests_units'].unique()"
   ]
  },
  {
   "cell_type": "markdown",
   "metadata": {},
   "source": [
    "<font color = 'teal'> Look for duplicate rows </font>"
   ]
  },
  {
   "cell_type": "code",
   "execution_count": 50,
   "metadata": {},
   "outputs": [
    {
     "data": {
      "text/html": [
       "<div>\n",
       "<style scoped>\n",
       "    .dataframe tbody tr th:only-of-type {\n",
       "        vertical-align: middle;\n",
       "    }\n",
       "\n",
       "    .dataframe tbody tr th {\n",
       "        vertical-align: top;\n",
       "    }\n",
       "\n",
       "    .dataframe thead th {\n",
       "        text-align: right;\n",
       "    }\n",
       "</style>\n",
       "<table border=\"1\" class=\"dataframe\">\n",
       "  <thead>\n",
       "    <tr style=\"text-align: right;\">\n",
       "      <th></th>\n",
       "      <th>iso_code</th>\n",
       "      <th>continent</th>\n",
       "      <th>location</th>\n",
       "      <th>date</th>\n",
       "      <th>total_cases</th>\n",
       "      <th>new_cases</th>\n",
       "      <th>total_deaths</th>\n",
       "      <th>new_deaths</th>\n",
       "      <th>total_cases_per_million</th>\n",
       "      <th>new_cases_per_million</th>\n",
       "      <th>...</th>\n",
       "      <th>aged_70_older</th>\n",
       "      <th>gdp_per_capita</th>\n",
       "      <th>extreme_poverty</th>\n",
       "      <th>cvd_death_rate</th>\n",
       "      <th>diabetes_prevalence</th>\n",
       "      <th>female_smokers</th>\n",
       "      <th>male_smokers</th>\n",
       "      <th>handwashing_facilities</th>\n",
       "      <th>hospital_beds_per_thousand</th>\n",
       "      <th>life_expectancy</th>\n",
       "    </tr>\n",
       "  </thead>\n",
       "  <tbody>\n",
       "  </tbody>\n",
       "</table>\n",
       "<p>0 rows × 34 columns</p>\n",
       "</div>"
      ],
      "text/plain": [
       "Empty DataFrame\n",
       "Columns: [iso_code, continent, location, date, total_cases, new_cases, total_deaths, new_deaths, total_cases_per_million, new_cases_per_million, total_deaths_per_million, new_deaths_per_million, total_tests, new_tests, total_tests_per_thousand, new_tests_per_thousand, new_tests_smoothed, new_tests_smoothed_per_thousand, tests_units, stringency_index, population, population_density, median_age, aged_65_older, aged_70_older, gdp_per_capita, extreme_poverty, cvd_death_rate, diabetes_prevalence, female_smokers, male_smokers, handwashing_facilities, hospital_beds_per_thousand, life_expectancy]\n",
       "Index: []\n",
       "\n",
       "[0 rows x 34 columns]"
      ]
     },
     "execution_count": 50,
     "metadata": {},
     "output_type": "execute_result"
    }
   ],
   "source": [
    "df_duplicated = df[df.duplicated()]\n",
    "df_duplicated"
   ]
  },
  {
   "cell_type": "code",
   "execution_count": null,
   "metadata": {},
   "outputs": [],
   "source": [
    "#From the above output we can ensure that there are no duplicate rows in the dataframe df"
   ]
  },
  {
   "cell_type": "markdown",
   "metadata": {},
   "source": [
    "# Export the dataframe to a new csv file "
   ]
  },
  {
   "cell_type": "markdown",
   "metadata": {},
   "source": [
    "<font color = 'teal'>Export the processed dataframe as a csv file into the data folder which we created in data organisation step.</font>"
   ]
  },
  {
   "cell_type": "code",
   "execution_count": 51,
   "metadata": {},
   "outputs": [],
   "source": [
    "df.to_csv('C:/Users/user/Springboard/Course/CapStone - 1/data/covid_updated_file.csv',index=True)"
   ]
  },
  {
   "cell_type": "code",
   "execution_count": null,
   "metadata": {},
   "outputs": [],
   "source": []
  }
 ],
 "metadata": {
  "kernelspec": {
   "display_name": "Python 3",
   "language": "python",
   "name": "python3"
  },
  "language_info": {
   "codemirror_mode": {
    "name": "ipython",
    "version": 3
   },
   "file_extension": ".py",
   "mimetype": "text/x-python",
   "name": "python",
   "nbconvert_exporter": "python",
   "pygments_lexer": "ipython3",
   "version": "3.7.6"
  }
 },
 "nbformat": 4,
 "nbformat_minor": 4
}
